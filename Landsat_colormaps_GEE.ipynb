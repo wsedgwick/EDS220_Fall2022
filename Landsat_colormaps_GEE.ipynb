{
 "cells": [
  {
   "cell_type": "markdown",
   "id": "d55b4731",
   "metadata": {},
   "source": [
    "# EDS 220 Fall 2022 \n",
    "# Making True and False Color Images with Landsat data using Google Earth Engine"
   ]
  },
  {
   "cell_type": "markdown",
   "id": "fbd3e2a4",
   "metadata": {},
   "source": [
    "In this notebook, we'll be learning how to use Google Earth Engine to create map-based visualizations of remote sensing data. We'll be working with Landsat data; in case you're curious, the full Landsat GEE catalog is available here:\n",
    "\n",
    "https://developers.google.com/earth-engine/datasets/catalog/landsat\n",
    "\n"
   ]
  },
  {
   "cell_type": "markdown",
   "id": "aa11152d",
   "metadata": {},
   "source": [
    "### Configure your environment (if necessary)\n",
    "\n",
    "**REMINDER:** If you are working on a local Python install, make sure you have followed the instructions for installing GEE on your machine:\n",
    "https://docs.google.com/document/d/1xviSPmI8iFa1Y31TVO4DiKkbMnh-71iVoqQ_wymc7pc/edit\n",
    "\n",
    "before attempting to run this notebook. \n",
    "\n",
    "__Everything should work correctly on the Bren Taylor server - if not, please let us know!__\n",
    "\n",
    "**1. Import required packages**\n",
    "\n",
    "First, let's import the packages that will be needed for this exercise: `ee`, the package containing the Google Earth Engine codes, `geemap`, which holds the mapping functionality of GEE, and our good friend `pandas`."
   ]
  },
  {
   "cell_type": "code",
   "execution_count": 1,
   "id": "5ca229b6",
   "metadata": {},
   "outputs": [],
   "source": [
    "# Import packages\n",
    "import ee\n",
    "import geemap\n",
    "import pandas as pd"
   ]
  },
  {
   "cell_type": "markdown",
   "id": "e7db241a-f325-4018-8eb7-54d7ca19d9b9",
   "metadata": {},
   "source": [
    "**2. Authenticate GEE (IF necessary)**\n",
    "GEE commands will not function correctly unless your credentials to access the remote server have been recently authenticated. This can be accomplished in a couple of ways:\n",
    "\n",
    "* (On the command line in your terminal window) By typing the command `earthengine authenticate` on the command line BEFORE launching Jupyter Lab;\n",
    "* (Within Jupyter Notebooks) By using the command `ee.Authenticate()` in a Python notebook cell.\n",
    "\n",
    "Both methods will open a new browser window where you can log in with your Google account if necessary. If you choose the `ee.Authenticate()` method, the browser will also generate an authentication token that you'll need to copy and paste into the notebook."
   ]
  },
  {
   "cell_type": "markdown",
   "id": "c88281ca",
   "metadata": {},
   "source": [
    "**3. Initialize the GEE environment**\n",
    "\n",
    "Next, we have to make sure that GEE has been initialized on the remote servers. This is accomplished using the `ee.Initialize()` command. This is generally handy if your connection to the GEE API has been idle for a while or got disrupted somehow, since it allows you to re-establish your connection with the API server. I'm also including below the `ee.Authenticate()` command, which you can uncomment if you need it:"
   ]
  },
  {
   "cell_type": "code",
   "execution_count": 2,
   "id": "397be0de",
   "metadata": {},
   "outputs": [],
   "source": [
    "# Authenticate and initialize GEE\n",
    "#ee.Authenticate()\n",
    "ee.Initialize()"
   ]
  },
  {
   "cell_type": "markdown",
   "id": "10d12571",
   "metadata": {},
   "source": [
    "### Read in Landsat 8 data\n",
    "\n",
    "Next, we need to actually import data from Landsat. There are multiple Landsat missions which have launched over the years: let's use Landsat 8 here, since it is the most recent dataset available as of this writing. \n",
    "\n",
    "Landsat provides information in several processing 'tiers':\n",
    "\n",
    "   - **Tier 1** data are considered high-quality\n",
    "   - **Tier 2** data don't pass muster to get into Tier 1\n",
    "   - **Real-Time (RT)** data haven't been processed into either tier yet\n",
    "    \n",
    "A full description of the Landsat data organizational structure in GEE can be found at: https://developers.google.com/earth-engine/guides/landsat\n",
    "\n",
    "The below example reads in data from:\n",
    "\n",
    " - The Landsat 8 mission (LC08)\n",
    " - Data Collection 1 (C01); this is the first \"official\" collection of Landsat data ingested into GEE, which will eventually be superseded by Collection 2 but will be maintained through the end of 2022\n",
    " - Tier 1 data (T1), the highest data quality \n",
    " \n",
    "Note that the data we will be reading in here are _top-of-atmosphere (TOA) reflectances_, estimates of the radiation reflected at the top of Earth's atmosphere.\n",
    "\n",
    "The first thing we'll do is to read in the Tier 1-Real Time dataset, using the `ee.ImageCollection` function:"
   ]
  },
  {
   "cell_type": "markdown",
   "id": "ab74c994",
   "metadata": {},
   "source": [
    "The code chunk below also displays some metadata on the Landsat image collection using the `first()` method to extract the first image in the collection, then the `getInfo()` method to display information on the bands and other metadata included in that image. "
   ]
  },
  {
   "cell_type": "code",
   "execution_count": 3,
   "id": "ab0dae17",
   "metadata": {},
   "outputs": [
    {
     "data": {
      "text/plain": [
       "{'type': 'Image',\n",
       " 'bands': [{'id': 'B1',\n",
       "   'data_type': {'type': 'PixelType', 'precision': 'float'},\n",
       "   'dimensions': [9171, 9161],\n",
       "   'crs': 'EPSG:32628',\n",
       "   'crs_transform': [30, 0, 341085, 0, -30, 8807715]},\n",
       "  {'id': 'B2',\n",
       "   'data_type': {'type': 'PixelType', 'precision': 'float'},\n",
       "   'dimensions': [9171, 9161],\n",
       "   'crs': 'EPSG:32628',\n",
       "   'crs_transform': [30, 0, 341085, 0, -30, 8807715]},\n",
       "  {'id': 'B3',\n",
       "   'data_type': {'type': 'PixelType', 'precision': 'float'},\n",
       "   'dimensions': [9171, 9161],\n",
       "   'crs': 'EPSG:32628',\n",
       "   'crs_transform': [30, 0, 341085, 0, -30, 8807715]},\n",
       "  {'id': 'B4',\n",
       "   'data_type': {'type': 'PixelType', 'precision': 'float'},\n",
       "   'dimensions': [9171, 9161],\n",
       "   'crs': 'EPSG:32628',\n",
       "   'crs_transform': [30, 0, 341085, 0, -30, 8807715]},\n",
       "  {'id': 'B5',\n",
       "   'data_type': {'type': 'PixelType', 'precision': 'float'},\n",
       "   'dimensions': [9171, 9161],\n",
       "   'crs': 'EPSG:32628',\n",
       "   'crs_transform': [30, 0, 341085, 0, -30, 8807715]},\n",
       "  {'id': 'B6',\n",
       "   'data_type': {'type': 'PixelType', 'precision': 'float'},\n",
       "   'dimensions': [9171, 9161],\n",
       "   'crs': 'EPSG:32628',\n",
       "   'crs_transform': [30, 0, 341085, 0, -30, 8807715]},\n",
       "  {'id': 'B7',\n",
       "   'data_type': {'type': 'PixelType', 'precision': 'float'},\n",
       "   'dimensions': [9171, 9161],\n",
       "   'crs': 'EPSG:32628',\n",
       "   'crs_transform': [30, 0, 341085, 0, -30, 8807715]},\n",
       "  {'id': 'B8',\n",
       "   'data_type': {'type': 'PixelType', 'precision': 'float'},\n",
       "   'dimensions': [18341, 18321],\n",
       "   'crs': 'EPSG:32628',\n",
       "   'crs_transform': [15, 0, 341092.5, 0, -15, 8807707.5]},\n",
       "  {'id': 'B9',\n",
       "   'data_type': {'type': 'PixelType', 'precision': 'float'},\n",
       "   'dimensions': [9171, 9161],\n",
       "   'crs': 'EPSG:32628',\n",
       "   'crs_transform': [30, 0, 341085, 0, -30, 8807715]},\n",
       "  {'id': 'B10',\n",
       "   'data_type': {'type': 'PixelType', 'precision': 'float'},\n",
       "   'dimensions': [9171, 9161],\n",
       "   'crs': 'EPSG:32628',\n",
       "   'crs_transform': [30, 0, 341085, 0, -30, 8807715]},\n",
       "  {'id': 'B11',\n",
       "   'data_type': {'type': 'PixelType', 'precision': 'float'},\n",
       "   'dimensions': [9171, 9161],\n",
       "   'crs': 'EPSG:32628',\n",
       "   'crs_transform': [30, 0, 341085, 0, -30, 8807715]},\n",
       "  {'id': 'BQA',\n",
       "   'data_type': {'type': 'PixelType',\n",
       "    'precision': 'int',\n",
       "    'min': 0,\n",
       "    'max': 65535},\n",
       "   'dimensions': [9171, 9161],\n",
       "   'crs': 'EPSG:32628',\n",
       "   'crs_transform': [30, 0, 341085, 0, -30, 8807715]}],\n",
       " 'version': 1655337549451297,\n",
       " 'id': 'LANDSAT/LC08/C01/T1_TOA/LC08_001004_20140524',\n",
       " 'properties': {'RADIANCE_MULT_BAND_5': 0.005961399991065264,\n",
       "  'RADIANCE_MULT_BAND_6': 0.001482499996200204,\n",
       "  'RADIANCE_MULT_BAND_3': 0.011552000418305397,\n",
       "  'RADIANCE_MULT_BAND_4': 0.009741599671542645,\n",
       "  'RADIANCE_MULT_BAND_1': 0.012242999859154224,\n",
       "  'RADIANCE_MULT_BAND_2': 0.012536999769508839,\n",
       "  'K2_CONSTANT_BAND_11': 1201.1441650390625,\n",
       "  'K2_CONSTANT_BAND_10': 1321.078857421875,\n",
       "  'system:footprint': {'type': 'LinearRing',\n",
       "   'coordinates': [[-14.48531653328562, 77.19560246459865],\n",
       "    [-14.260656626377951, 77.2438675118657],\n",
       "    [-11.037446463313719, 77.8806505434013],\n",
       "    [-10.514798911626153, 77.97486896283264],\n",
       "    [-9.973183928299736, 78.07037739268894],\n",
       "    [-10.898578963431735, 78.29254506737068],\n",
       "    [-12.946558538425377, 78.74610026610401],\n",
       "    [-15.16335454980503, 79.18492563273314],\n",
       "    [-15.9873774544603, 79.33551824894327],\n",
       "    [-16.167196970615183, 79.30133757875339],\n",
       "    [-19.0480099639651, 78.70410801025652],\n",
       "    [-21.637622546414864, 78.08197287736508],\n",
       "    [-21.8586022291594, 78.02423500898735],\n",
       "    [-21.823412156720035, 78.01809542186105],\n",
       "    [-21.044631785762583, 77.88596723086232],\n",
       "    [-17.249703063874698, 77.16435550230098],\n",
       "    [-16.03273667328167, 76.90249653097108],\n",
       "    [-15.91309511137179, 76.87623197230317],\n",
       "    [-15.777460011234437, 76.90742783932848],\n",
       "    [-15.020703972411463, 77.07841355112116],\n",
       "    [-14.48531653328562, 77.19560246459865]]},\n",
       "  'REFLECTIVE_SAMPLES': 9171,\n",
       "  'SUN_AZIMUTH': -161.3436737060547,\n",
       "  'CPF_NAME': 'LC08CPF_20140401_20140630_01.01',\n",
       "  'DATE_ACQUIRED': '2014-05-24',\n",
       "  'ELLIPSOID': 'WGS84',\n",
       "  'STATION_ID': 'LGN',\n",
       "  'RESAMPLING_OPTION': 'CUBIC_CONVOLUTION',\n",
       "  'ORIENTATION': 'NORTH_UP',\n",
       "  'WRS_ROW': 4,\n",
       "  'RADIANCE_MULT_BAND_9': 0.002329800045117736,\n",
       "  'TARGET_WRS_ROW': 4,\n",
       "  'RADIANCE_MULT_BAND_7': 0.0004997000214643776,\n",
       "  'RADIANCE_MULT_BAND_8': 0.011025000363588333,\n",
       "  'IMAGE_QUALITY_TIRS': 9,\n",
       "  'TRUNCATION_OLI': 'UPPER',\n",
       "  'CLOUD_COVER': 88.55000305175781,\n",
       "  'COLLECTION_CATEGORY': 'T1',\n",
       "  'GRID_CELL_SIZE_REFLECTIVE': 30,\n",
       "  'CLOUD_COVER_LAND': 38.20000076293945,\n",
       "  'GEOMETRIC_RMSE_MODEL': 7.665999889373779,\n",
       "  'COLLECTION_NUMBER': 1,\n",
       "  'IMAGE_QUALITY_OLI': 9,\n",
       "  'LANDSAT_SCENE_ID': 'LC80010042014144LGN01',\n",
       "  'WRS_PATH': 1,\n",
       "  'PANCHROMATIC_SAMPLES': 18341,\n",
       "  'PANCHROMATIC_LINES': 18321,\n",
       "  'GEOMETRIC_RMSE_MODEL_Y': 5.357999801635742,\n",
       "  'REFLECTIVE_LINES': 9161,\n",
       "  'TIRS_STRAY_LIGHT_CORRECTION_SOURCE': 'TIRS',\n",
       "  'GEOMETRIC_RMSE_MODEL_X': 5.482999801635742,\n",
       "  'system:asset_size': 1222749075,\n",
       "  'system:index': 'LC08_001004_20140524',\n",
       "  'REFLECTANCE_ADD_BAND_1': -0.10000000149011612,\n",
       "  'REFLECTANCE_ADD_BAND_2': -0.10000000149011612,\n",
       "  'DATUM': 'WGS84',\n",
       "  'REFLECTANCE_ADD_BAND_3': -0.10000000149011612,\n",
       "  'REFLECTANCE_ADD_BAND_4': -0.10000000149011612,\n",
       "  'RLUT_FILE_NAME': 'LC08RLUT_20130211_20150302_01_11.h5',\n",
       "  'REFLECTANCE_ADD_BAND_5': -0.10000000149011612,\n",
       "  'REFLECTANCE_ADD_BAND_6': -0.10000000149011612,\n",
       "  'REFLECTANCE_ADD_BAND_7': -0.10000000149011612,\n",
       "  'REFLECTANCE_ADD_BAND_8': -0.10000000149011612,\n",
       "  'BPF_NAME_TIRS': 'LT8BPF20140524140236_20140524144510.01',\n",
       "  'GROUND_CONTROL_POINTS_VERSION': 4,\n",
       "  'DATA_TYPE': 'L1TP',\n",
       "  'UTM_ZONE': 28,\n",
       "  'LANDSAT_PRODUCT_ID': 'LC08_L1TP_001004_20140524_20170422_01_T1',\n",
       "  'REFLECTANCE_ADD_BAND_9': -0.10000000149011612,\n",
       "  'GRID_CELL_SIZE_PANCHROMATIC': 15,\n",
       "  'RADIANCE_ADD_BAND_4': -48.7081184387207,\n",
       "  'REFLECTANCE_MULT_BAND_7': 1.9999999494757503e-05,\n",
       "  'system:time_start': 1400940473520,\n",
       "  'RADIANCE_ADD_BAND_5': -29.80694007873535,\n",
       "  'REFLECTANCE_MULT_BAND_6': 1.9999999494757503e-05,\n",
       "  'RADIANCE_ADD_BAND_6': -7.412710189819336,\n",
       "  'REFLECTANCE_MULT_BAND_9': 1.9999999494757503e-05,\n",
       "  'PROCESSING_SOFTWARE_VERSION': 'LPGS_2.7.0',\n",
       "  'RADIANCE_ADD_BAND_7': -2.4984800815582275,\n",
       "  'REFLECTANCE_MULT_BAND_8': 1.9999999494757503e-05,\n",
       "  'RADIANCE_ADD_BAND_1': -61.21323013305664,\n",
       "  'RADIANCE_ADD_BAND_2': -62.68309020996094,\n",
       "  'RADIANCE_ADD_BAND_3': -57.76192855834961,\n",
       "  'REFLECTANCE_MULT_BAND_1': 1.9999999494757503e-05,\n",
       "  'RADIANCE_ADD_BAND_8': -55.12417984008789,\n",
       "  'REFLECTANCE_MULT_BAND_3': 1.9999999494757503e-05,\n",
       "  'RADIANCE_ADD_BAND_9': -11.649230003356934,\n",
       "  'REFLECTANCE_MULT_BAND_2': 1.9999999494757503e-05,\n",
       "  'REFLECTANCE_MULT_BAND_5': 1.9999999494757503e-05,\n",
       "  'REFLECTANCE_MULT_BAND_4': 1.9999999494757503e-05,\n",
       "  'THERMAL_LINES': 9161,\n",
       "  'TIRS_SSM_POSITION_STATUS': 'NOMINAL',\n",
       "  'GRID_CELL_SIZE_THERMAL': 30,\n",
       "  'NADIR_OFFNADIR': 'NADIR',\n",
       "  'RADIANCE_ADD_BAND_11': 0.10000000149011612,\n",
       "  'REQUEST_ID': '0501704226249_00002',\n",
       "  'EARTH_SUN_DISTANCE': 1.0127068758010864,\n",
       "  'TIRS_SSM_MODEL': 'ACTUAL',\n",
       "  'FILE_DATE': 1492857311000,\n",
       "  'SCENE_CENTER_TIME': '14:07:53.5175160Z',\n",
       "  'SUN_ELEVATION': 32.1458625793457,\n",
       "  'BPF_NAME_OLI': 'LO8BPF20140524140630_20140524144417.01',\n",
       "  'RADIANCE_ADD_BAND_10': 0.10000000149011612,\n",
       "  'ROLL_ANGLE': -0.0010000000474974513,\n",
       "  'K1_CONSTANT_BAND_10': 774.8853149414062,\n",
       "  'SATURATION_BAND_1': 'N',\n",
       "  'SATURATION_BAND_2': 'N',\n",
       "  'SATURATION_BAND_3': 'N',\n",
       "  'SATURATION_BAND_4': 'N',\n",
       "  'SATURATION_BAND_5': 'N',\n",
       "  'MAP_PROJECTION': 'UTM',\n",
       "  'SATURATION_BAND_6': 'N',\n",
       "  'SENSOR_ID': 'OLI_TIRS',\n",
       "  'SATURATION_BAND_7': 'N',\n",
       "  'K1_CONSTANT_BAND_11': 480.8883056640625,\n",
       "  'SATURATION_BAND_8': 'N',\n",
       "  'SATURATION_BAND_9': 'N',\n",
       "  'TARGET_WRS_PATH': 1,\n",
       "  'RADIANCE_MULT_BAND_11': 0.00033420001273043454,\n",
       "  'RADIANCE_MULT_BAND_10': 0.00033420001273043454,\n",
       "  'GROUND_CONTROL_POINTS_MODEL': 7,\n",
       "  'SPACECRAFT_ID': 'LANDSAT_8',\n",
       "  'ELEVATION_SOURCE': 'GLS2000',\n",
       "  'THERMAL_SAMPLES': 9171}}"
      ]
     },
     "execution_count": 3,
     "metadata": {},
     "output_type": "execute_result"
    }
   ],
   "source": [
    "# Load the Landsat 8 Tier 1 TOA image collection\n",
    "gdat = ee.ImageCollection('LANDSAT/LC08/C01/T1_TOA')\n",
    "\n",
    "# show some metadata\n",
    "testimg=gdat.first()\n",
    "testimg.getInfo()"
   ]
  },
  {
   "cell_type": "markdown",
   "id": "d3b4741f",
   "metadata": {},
   "source": [
    "The `gdat` object above is now an ImageCollection, which is pretty much exactly what it sounds like: a data structure made up of all of the Landsat 8 Collection 1 Tier 1-Real Time images. As you can imagine, this is a LOT of information!\n",
    "\n",
    "Let's figure out what's going on with this data a little bit. It's helpful to look at the *metadata* for any new data source; the easiest way to do that in this case is to look at the Web documentation:\n",
    "\n",
    "https://developers.google.com/earth-engine/datasets/catalog/LANDSAT_LC08_C02_T1_L2#description\n",
    "\n",
    "Take a look at the URL above; read the data *description* then note the information on *bands* and *properties*. \n",
    "\n",
    "- **Bands** The Bands tab will show you the names and wavelengths of the different spectral bands that Landsat 8 is sensing in.\n",
    "- **Properties** These are other things that are useful to know about any given piece of data: things like the data processing level, estimated cloud cover, and the PATH and ROW of a given scene. (Recall that these are standardized for the Landsat missions, onto a particular lat/lon grid!)\n",
    "\n",
    "It's not important to understand the details of every band and property; what matters is knowing where to find this information when you do need it!"
   ]
  },
  {
   "cell_type": "markdown",
   "id": "59a825b9",
   "metadata": {},
   "source": [
    "## Example 1: Generate True-Color Image of Region of Interest\n",
    "\n",
    "Generally speaking, we're not interested in looking at the entire Landsat archive all at once: instead, we usually want to select a portion of the available data corresponding to a region (and often time period) of interest. Because Landsat (and satellite information in general) is created in repeating swaths slicing across the planet, finding only the data which correspond to a particular spatial and temporal region can be a complex task. Luckily, there are various algorithms which will filter Landsat data for us! In the GEE implementation, this is done using `ee.Filter()` and related functions.\n",
    "\n",
    "Filtering spatially can take several forms. You can:\n",
    "- **Select a specific point of interest**\n",
    "- **Define lat/lon bounds for a region of interest**\n",
    "or\n",
    "- **Define your own irregular polygon** which could be a shapefile, or any kind of arbitrary shape defined by a set of lat and lon boundary points.\n",
    "\n",
    "As a first step, let's select a point of interest: say, Santa Barbara. The `ee.Geometry.Point()` method allows us to define a point using lat/lon coordinates, which we can then use to select all the Landsat images which intersect that point."
   ]
  },
  {
   "cell_type": "code",
   "execution_count": 4,
   "id": "0264aef5",
   "metadata": {},
   "outputs": [],
   "source": [
    "pt = ee.Geometry.Point([-119.69, 34.42])   # Point corresponding to Santa Barbara, CA\n",
    "                                           # NOTE: syntax for ee.Geometry.Point is [longitude, latitude]"
   ]
  },
  {
   "cell_type": "markdown",
   "id": "c81693d7",
   "metadata": {},
   "source": [
    "The `ee.filterBounds()` method then allows us to filter the ImageCollection using the point we've just defined."
   ]
  },
  {
   "cell_type": "code",
   "execution_count": 5,
   "id": "27dbdaf7",
   "metadata": {},
   "outputs": [],
   "source": [
    "# Filter data to only images overlapping Santa Barbara\n",
    "gdat_filt = gdat.filterBounds(pt)"
   ]
  },
  {
   "cell_type": "markdown",
   "id": "5ca27204",
   "metadata": {},
   "source": [
    "### Set visualization parameters\n",
    "\n",
    "Now we have filtered the Landsat data to contain only those scenes which include Santa Barbara. Now what? Well, maybe we should look at them! GEE will allow you to plot all images within an ImageCollection; this is done by adding the data as a layer to the basemap.\n",
    "\n",
    "The below example combines data from multiple *bands* in the ImageCollection, into a \"true color\" image. We do this by selecting the red (band B4), green (band B3), and blue (band B2) wavelength data, then passing them as *parameters*. By default, GEE will plot these as RGB colors and plot using a color range from 0 to 1; you can change this by passing `max` and `min` values to the parameter array below. Here I have used a max value of 0.3, which the GEE developer guides specify as a reasonable max value.\n",
    "\n",
    "NOTE: the below code will not produce output, and that is ok! It's just creating a data structure with the appropriate visualization information, stored in `visParams`."
   ]
  },
  {
   "cell_type": "code",
   "execution_count": 6,
   "id": "7fd328b3",
   "metadata": {},
   "outputs": [],
   "source": [
    "# Visualization parameters: which bands are we assigning to R, G, and B?\n",
    "visParams = {'bands': ['B4', 'B3', 'B2'],\n",
    "             'min': 0,\n",
    "             'max': 0.3\n",
    "            }"
   ]
  },
  {
   "cell_type": "markdown",
   "id": "fcab8e81",
   "metadata": {},
   "source": [
    "Now we're ready to actually plot things. First, we generate a base map centered on Santa Barbara; note the number after \"zoom\" below, this tells GEE how closely to zoom in on the center point. Once the base map is generated, the `addLayer` method is used to add our filtered data with the appropriate visual parameters to the map:"
   ]
  },
  {
   "cell_type": "code",
   "execution_count": 7,
   "id": "f4de27fb",
   "metadata": {},
   "outputs": [
    {
     "data": {
      "application/vnd.jupyter.widget-view+json": {
       "model_id": "25709ba6633842b49d1aacbe767c6b11",
       "version_major": 2,
       "version_minor": 0
      },
      "text/plain": [
       "Map(center=[34.42, -119.69], controls=(WidgetControl(options=['position', 'transparent_bg'], widget=HBox(child…"
      ]
     },
     "execution_count": 7,
     "metadata": {},
     "output_type": "execute_result"
    }
   ],
   "source": [
    "# Plot a blank version of the selected basemap\n",
    "# NOTE: syntax for geemap.Map is \"center=[latitude, longitude]\"\n",
    "Map = geemap.Map(center=[34.42, -119.69], zoom=8)\n",
    "\n",
    "Map"
   ]
  },
  {
   "cell_type": "markdown",
   "id": "f0145e43",
   "metadata": {},
   "source": [
    "### Sort based on metadata properties: in other words, get rid of cloudy images\n",
    "\n",
    "GEE contains powerful sorting functionality, that allows you to easily identify scenes satisfying different criteria. One commonly-used filtering method is identifying the \"least cloudy\" scene: because clouds often interfere with many of the scientific questions people are interested in, it can be desirable to figure out which scenes are least likely to be contaminated by large cloud cover.\n",
    "\n",
    "Recall from your perusal of the Landsat 8 metadata that one of the available \"properties\" is a value called CLOUD_COVER. This is a number that represents the percentage of the scene covered by clouds; the `filter` command then allows us to set whatever condition based on cloud cover that we want. Here I'm showing an example of plotting all images with CLOUD_COVER less than 0.2, or equivalently all images where less than 20% is covered by clouds. "
   ]
  },
  {
   "cell_type": "code",
   "execution_count": 8,
   "id": "750a99b1",
   "metadata": {},
   "outputs": [],
   "source": [
    "# Use filter to extract all \"non-cloudy\" images: ones with less than 20% cloud cover\n",
    "dat_nocld=gdat_filt.filter('CLOUD_COVER < 0.2')"
   ]
  },
  {
   "cell_type": "markdown",
   "id": "24f5b32c-fb95-413c-9e00-e715a67a1e14",
   "metadata": {
    "tags": []
   },
   "source": [
    "### Make a temporal average of non-cloudy images\n",
    "Although we've successfully selected images for the location we want and made sure they're not very contaminated by clouds, we still need to turn the data into something that can easily be plotted as a layer. Right now `dat_nocld` is still an \"ImageCollection\"; we need to generate a single image to plot instead. An easy way to do this is to calculate the average over some range of time. Here is an example using the `ee.Filter` command again, this time to filter on the date of an image: by combining `ee.Filter.date` with `.mean`, we can then calculate the average over the specified time interval."
   ]
  },
  {
   "cell_type": "code",
   "execution_count": 9,
   "id": "e4646a1b-3d01-4bc4-9f39-db4916d93245",
   "metadata": {},
   "outputs": [],
   "source": [
    "# Command to extract all data over appropriate time, perform temporal averaging\n",
    "dat_drght=dat_nocld.filter(ee.Filter.date('2017-12-10', '2018-12-31')).mean();"
   ]
  },
  {
   "cell_type": "markdown",
   "id": "e25f8c94-5644-46a2-8102-cf2477cfa7d2",
   "metadata": {},
   "source": [
    "### Add data to the basemap\n",
    "\n",
    "Now we have an image! Adding it as a layer overlain on the basemap is fairly straightfoward using the `Map.addLayer` command. Note that we also pass `visParams` as an argument here, telling the map how to set appropriate color ranges and merge the three selected spectral bands:"
   ]
  },
  {
   "cell_type": "code",
   "execution_count": 10,
   "id": "52663eb4-4080-4432-9162-eec8cf2c5d59",
   "metadata": {},
   "outputs": [],
   "source": [
    "# Add layer to the basemap\n",
    "Map.addLayer(dat_drght, visParams)"
   ]
  },
  {
   "cell_type": "markdown",
   "id": "6b264b60-6c1e-4e87-acdb-e9f0ca2dbf01",
   "metadata": {},
   "source": [
    "## Example 2: Generate FALSE-Color Image of Region of Interest\n",
    "\n",
    "True-color images are great, but sometimes we also want to use other combinations of spectral band information to create maps which highlight things in ways that wouldn't be as obvious from true-color. These combinations are known as 'false color' images, and come in many different varieties. A good example is the so-called `7-5-2` combination, which can highlight recent wildfire burn scars.\n",
    "\n",
    "Since the GEE data is set up such that all \"ImageCollections\" contain information on all spectral bands from Landsat, all we have to do is to change the choice of visualization parameters to include different bands:"
   ]
  },
  {
   "cell_type": "code",
   "execution_count": 11,
   "id": "c2d7a500-c403-48f9-8ff5-2ef7175f8109",
   "metadata": {},
   "outputs": [],
   "source": [
    "# False color image parameters: fire burn scar\n",
    "visParsFire = {'bands': ['B7', 'B5', 'B2'],\n",
    "             'min': 0,\n",
    "             'max': 0.3\n",
    "            }"
   ]
  },
  {
   "cell_type": "markdown",
   "id": "3d48f367-8f4c-4f01-aeb5-8de244b25601",
   "metadata": {},
   "source": [
    "Now we can add this as a new layer to the basemap:"
   ]
  },
  {
   "cell_type": "code",
   "execution_count": 12,
   "id": "c433d67e-48aa-40cb-bd14-82e6e3d207d3",
   "metadata": {},
   "outputs": [],
   "source": [
    "# Add another layer to the map showing false color images\n",
    "Map.addLayer(dat_drght,visParsFire,'7-5-2 False Color')"
   ]
  },
  {
   "cell_type": "code",
   "execution_count": null,
   "id": "39c96c6b-2e06-4c2b-aa19-70f17f2fcc7d",
   "metadata": {},
   "outputs": [],
   "source": []
  }
 ],
 "metadata": {
  "kernelspec": {
   "display_name": "Python 3 (ipykernel)",
   "language": "python",
   "name": "python3"
  },
  "language_info": {
   "codemirror_mode": {
    "name": "ipython",
    "version": 3
   },
   "file_extension": ".py",
   "mimetype": "text/x-python",
   "name": "python",
   "nbconvert_exporter": "python",
   "pygments_lexer": "ipython3",
   "version": "3.10.5"
  }
 },
 "nbformat": 4,
 "nbformat_minor": 5
}
