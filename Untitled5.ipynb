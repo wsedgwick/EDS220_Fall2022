{
 "cells": [
  {
   "cell_type": "markdown",
   "id": "14e063ae-5e6d-49f4-bcf6-2de5a49afe5a",
   "metadata": {},
   "source": [
    "Dataset Input/Output\n",
    "\n",
    "Import necessary packages"
   ]
  },
  {
   "cell_type": "code",
   "execution_count": 1,
   "id": "e685e776-b316-48de-868d-ab81ae26b00b",
   "metadata": {},
   "outputs": [],
   "source": [
    "import ee\n",
    "import geemap\n",
    "import pandas as pd\n",
    "\n",
    "import earthpy as et\n",
    "import earthpy.spatial as es\n",
    "import earthpy.plot as ep\n",
    "\n",
    "ee.Initialize()"
   ]
  },
  {
   "cell_type": "code",
   "execution_count": null,
   "id": "b021283a-80a0-43dd-9bc8-0e6aa640f3fc",
   "metadata": {},
   "outputs": [],
   "source": [
    "from glob import glob\n",
    "import numpy as np\n",
    "import matplotlib.pyplot as plt\n",
    "from matplotlib.colors import ListedColormap\n"
   ]
  },
  {
   "cell_type": "code",
   "execution_count": 11,
   "id": "85deaf7a-17aa-4aff-951e-72688f636b7f",
   "metadata": {},
   "outputs": [],
   "source": [
    "# Read in landsat images\n",
    "gdat = ee.ImageCollection('LANDSAT/LC08/C01/T1_TOA')\n",
    "gdat_2 = ee.ImageCollection('LANDSAT/LC08/C02/T1_TOA')"
   ]
  },
  {
   "cell_type": "markdown",
   "id": "aa023689-54b3-48ff-b096-5ee96d10b8d1",
   "metadata": {},
   "source": [
    "Aquiring Landsat 8 "
   ]
  },
  {
   "cell_type": "code",
   "execution_count": 3,
   "id": "c570a760-8402-40a9-9d93-f6bf4d43de27",
   "metadata": {},
   "outputs": [],
   "source": [
    "# Filter to images overlapping with the SCU complex fire\n",
    "pt = ee.Geometry.Point([-121.54, 37.22])\n",
    "gdat_filt = gdat.filterBounds(pt)\n",
    "\n",
    "dat_nocld=gdat_filt.filter('CLOUD_COVER < 0.2')"
   ]
  },
  {
   "cell_type": "code",
   "execution_count": 4,
   "id": "a3ff491c-e396-43fd-95f5-39d44ab2f394",
   "metadata": {},
   "outputs": [],
   "source": [
    "# NORMALIZED BURN RATIO\n",
    "\n",
    "dat_drght=dat_nocld.filter(ee.Filter.date('2020-10-01', '2020-10-31')).mean();\n",
    "\n",
    "# normalized difference burn ratio\n",
    "dat_drght_before=dat_nocld.filter(ee.Filter.date('2020-08-01', '2020-08-16')).mean();\n",
    "dat_drght_after=dat_nocld.filter(ee.Filter.date('2020-09-16', '2020-10-15')).mean();\n",
    "\n",
    "# diff = dat_drght_before - dat_drght_after"
   ]
  },
  {
   "cell_type": "code",
   "execution_count": 5,
   "id": "0b292da1-5ef2-4d65-8f58-7c17d49803a0",
   "metadata": {},
   "outputs": [],
   "source": [
    "# NORMALIZED DIFFERENCE VEGETATION INDEX\n",
    "\n",
    "# CODE FROM CLASS\n",
    "visParsFire = {'bands': ['B7', 'B5', 'B2'],\n",
    "             'min': 0,\n",
    "             'max': 0.3\n",
    "            }"
   ]
  },
  {
   "cell_type": "code",
   "execution_count": 6,
   "id": "b177daa1-2cd1-44e2-a010-5c005f501d08",
   "metadata": {},
   "outputs": [],
   "source": [
    "# burn ratio params\n",
    "burnParams = {'bands': ['B7', 'B5', 'B2'],\n",
    "              'min': 0,\n",
    "              'max': 0.3\n",
    "             }\n",
    "\n",
    "# setting nbr\n",
    "swir = dat_drght.select('B7')\n",
    "nir = dat_drght.select('B5')\n",
    "\n",
    "nbr=(nir.subtract(swir)).divide((nir.add(swir))).rename('NBR')\n",
    "\n",
    "\n",
    "\n",
    "visParams = {'bands': ['NBR'],\n",
    "             'min': 0,\n",
    "             'max': 0.3,\n",
    "             'palette': ['red', 'orange', 'yellow', 'green', 'darkgreen']\n",
    "            }\n",
    "# 'palette': ['0000FF', 'FF0000']"
   ]
  },
  {
   "cell_type": "code",
   "execution_count": 14,
   "id": "3cc10cec-ef8e-43e7-8651-e6026f422910",
   "metadata": {},
   "outputs": [
    {
     "ename": "AttributeError",
     "evalue": "'Image' object has no attribute 'head'",
     "output_type": "error",
     "traceback": [
      "\u001b[0;31m---------------------------------------------------------------------------\u001b[0m",
      "\u001b[0;31mAttributeError\u001b[0m                            Traceback (most recent call last)",
      "Input \u001b[0;32mIn [14]\u001b[0m, in \u001b[0;36m<cell line: 1>\u001b[0;34m()\u001b[0m\n\u001b[0;32m----> 1\u001b[0m \u001b[43mswir\u001b[49m\u001b[38;5;241;43m.\u001b[39;49m\u001b[43mhead\u001b[49m()\n",
      "\u001b[0;31mAttributeError\u001b[0m: 'Image' object has no attribute 'head'"
     ]
    }
   ],
   "source": []
  },
  {
   "cell_type": "code",
   "execution_count": 15,
   "id": "989a9abf-1002-4a36-9aed-daef2f0a8546",
   "metadata": {},
   "outputs": [
    {
     "ename": "AttributeError",
     "evalue": "'Image' object has no attribute 'shape'",
     "output_type": "error",
     "traceback": [
      "\u001b[0;31m---------------------------------------------------------------------------\u001b[0m",
      "\u001b[0;31mAttributeError\u001b[0m                            Traceback (most recent call last)",
      "Input \u001b[0;32mIn [15]\u001b[0m, in \u001b[0;36m<cell line: 1>\u001b[0;34m()\u001b[0m\n\u001b[0;32m----> 1\u001b[0m nbr \u001b[38;5;241m=\u001b[39m \u001b[43mes\u001b[49m\u001b[38;5;241;43m.\u001b[39;49m\u001b[43mnormalized_diff\u001b[49m\u001b[43m(\u001b[49m\u001b[43mdat_drght\u001b[49m\u001b[38;5;241;43m.\u001b[39;49m\u001b[43mselect\u001b[49m\u001b[43m(\u001b[49m\u001b[38;5;124;43m'\u001b[39;49m\u001b[38;5;124;43mB7\u001b[39;49m\u001b[38;5;124;43m'\u001b[39;49m\u001b[43m)\u001b[49m\u001b[43m,\u001b[49m\u001b[43mdat_drght\u001b[49m\u001b[38;5;241;43m.\u001b[39;49m\u001b[43mselect\u001b[49m\u001b[43m(\u001b[49m\u001b[38;5;124;43m'\u001b[39;49m\u001b[38;5;124;43mB5\u001b[39;49m\u001b[38;5;124;43m'\u001b[39;49m\u001b[43m)\u001b[49m\u001b[43m)\u001b[49m\n",
      "File \u001b[0;32m~/.local/lib/python3.10/site-packages/earthpy/spatial.py:100\u001b[0m, in \u001b[0;36mnormalized_diff\u001b[0;34m(b1, b2)\u001b[0m\n\u001b[1;32m     62\u001b[0m \u001b[38;5;28;01mdef\u001b[39;00m \u001b[38;5;21mnormalized_diff\u001b[39m(b1, b2):\n\u001b[1;32m     63\u001b[0m     \u001b[38;5;124;03m\"\"\"Take two n-dimensional numpy arrays and calculate the normalized\u001b[39;00m\n\u001b[1;32m     64\u001b[0m \u001b[38;5;124;03m    difference.\u001b[39;00m\n\u001b[1;32m     65\u001b[0m \n\u001b[0;32m   (...)\u001b[0m\n\u001b[1;32m     98\u001b[0m \u001b[38;5;124;03m           [0.05882353, 0.08108108, 0.1       , 0.0952381 , 0.11111111]])\u001b[39;00m\n\u001b[1;32m     99\u001b[0m \u001b[38;5;124;03m    \"\"\"\u001b[39;00m\n\u001b[0;32m--> 100\u001b[0m     \u001b[38;5;28;01mif\u001b[39;00m \u001b[38;5;129;01mnot\u001b[39;00m (\u001b[43mb1\u001b[49m\u001b[38;5;241;43m.\u001b[39;49m\u001b[43mshape\u001b[49m \u001b[38;5;241m==\u001b[39m b2\u001b[38;5;241m.\u001b[39mshape):\n\u001b[1;32m    101\u001b[0m         \u001b[38;5;28;01mraise\u001b[39;00m \u001b[38;5;167;01mValueError\u001b[39;00m(\u001b[38;5;124m\"\u001b[39m\u001b[38;5;124mBoth arrays should have the same dimensions\u001b[39m\u001b[38;5;124m\"\u001b[39m)\n\u001b[1;32m    103\u001b[0m     \u001b[38;5;66;03m# Ignore warning for division by zero\u001b[39;00m\n",
      "\u001b[0;31mAttributeError\u001b[0m: 'Image' object has no attribute 'shape'"
     ]
    }
   ],
   "source": [
    "nbr = es.normalized_diff(dat_drght.select('B7'),dat_drght.select('B5'))"
   ]
  },
  {
   "cell_type": "code",
   "execution_count": 8,
   "id": "bc59490a-b3ff-4973-aa35-12a1c97d71a1",
   "metadata": {},
   "outputs": [
    {
     "data": {
      "application/vnd.jupyter.widget-view+json": {
       "model_id": "7c8f3fb2e44141f5a3839b01212a10d7",
       "version_major": 2,
       "version_minor": 0
      },
      "text/plain": [
       "Map(center=[37.22, -121.54], controls=(WidgetControl(options=['position', 'transparent_bg'], widget=HBox(child…"
      ]
     },
     "execution_count": 8,
     "metadata": {},
     "output_type": "execute_result"
    }
   ],
   "source": [
    "Map = geemap.Map(center=[37.22, -121.54], zoom=8)\n",
    "Map"
   ]
  },
  {
   "cell_type": "code",
   "execution_count": 12,
   "id": "4b590b52-a81d-4798-8a3d-8456eeb6c4b5",
   "metadata": {},
   "outputs": [],
   "source": [
    "Map.addLayer(nbr, visParams, '7-5-2 False Color')"
   ]
  },
  {
   "cell_type": "code",
   "execution_count": 10,
   "id": "66bad226-d699-4b1e-8280-bbc57772c13b",
   "metadata": {},
   "outputs": [],
   "source": [
    "Map.addLayer(dat_drght,visParsFire,'7-5-2 False Color')"
   ]
  }
 ],
 "metadata": {
  "kernelspec": {
   "display_name": "Python 3 (ipykernel)",
   "language": "python",
   "name": "python3"
  },
  "language_info": {
   "codemirror_mode": {
    "name": "ipython",
    "version": 3
   },
   "file_extension": ".py",
   "mimetype": "text/x-python",
   "name": "python",
   "nbconvert_exporter": "python",
   "pygments_lexer": "ipython3",
   "version": "3.10.5"
  }
 },
 "nbformat": 4,
 "nbformat_minor": 5
}
