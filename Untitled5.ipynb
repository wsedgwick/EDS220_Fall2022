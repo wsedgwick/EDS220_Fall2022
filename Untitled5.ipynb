{
 "cells": [
  {
   "cell_type": "code",
   "execution_count": 1,
   "id": "7dafd6e6-e7db-48a2-ab20-2ead8dbd5abe",
   "metadata": {},
   "outputs": [],
   "source": [
    "import ee\n",
    "import geemap\n",
    "import pandas as pd\n",
    "\n",
    "ee.Initialize()"
   ]
  },
  {
   "cell_type": "code",
   "execution_count": 8,
   "id": "d62670c8-f93a-4df5-8aec-76eebebebbc8",
   "metadata": {},
   "outputs": [],
   "source": [
    "gdat = ee.ImageCollection('LANDSAT/LC08/C01/T1_TOA')\n",
    "\n",
    "veg_cover=ee.ImageCollection(\"LANDFIRE/Vegetation/EVC/v1_4_0\")\n",
    "\n",
    "pt = ee.Geometry.Point([-121.54, 37.22])\n",
    "veg_filt = veg_cover.filterBounds(pt)\n",
    "\n",
    "veg_cover_aft_fire=veg_filt.filter(ee.Filter.date('2020-10-01', '2020-12-01')).mean();"
   ]
  },
  {
   "cell_type": "code",
   "execution_count": 13,
   "id": "ec4ab212-a55a-4747-9880-b5fea4b3bd23",
   "metadata": {},
   "outputs": [],
   "source": [
    "vegParams = {'bands': ['EVC'],\n",
    "             'min': 111,\n",
    "             'max': 119,\n",
    "             'palette': ['brown','white','green']\n",
    "            }"
   ]
  },
  {
   "cell_type": "code",
   "execution_count": 7,
   "id": "6caaa9bc-d696-4e0f-8f2b-a0aace63d54e",
   "metadata": {},
   "outputs": [],
   "source": [
    "# Filter to images overlapping \n",
    "pt = ee.Geometry.Point([-121.54, 37.22])   # Point corresponding to Santa Barbara, CA\n",
    "                                           # NOTE: syntax for ee.Geometry.Point is [longitude, latitude]\n",
    "\n",
    "gdat_filt = gdat.filterBounds(pt)"
   ]
  },
  {
   "cell_type": "code",
   "execution_count": 10,
   "id": "8b389e2a-e21e-4b60-aa20-bc426e0c5fc7",
   "metadata": {},
   "outputs": [
    {
     "data": {
      "application/vnd.jupyter.widget-view+json": {
       "model_id": "16ad28140b434a0ab39fa567e25a1248",
       "version_major": 2,
       "version_minor": 0
      },
      "text/plain": [
       "Map(center=[37.22, -121.54], controls=(WidgetControl(options=['position', 'transparent_bg'], widget=HBox(child…"
      ]
     },
     "execution_count": 10,
     "metadata": {},
     "output_type": "execute_result"
    }
   ],
   "source": [
    "Map = geemap.Map(center=[37.22, -121.54], zoom=8)\n",
    "Map"
   ]
  },
  {
   "cell_type": "code",
   "execution_count": 14,
   "id": "6ac60cef-c5de-4a1f-a468-b0b4dd40cfa9",
   "metadata": {},
   "outputs": [],
   "source": [
    "Map.addLayer(veg_filt, vegParams)"
   ]
  },
  {
   "cell_type": "code",
   "execution_count": 5,
   "id": "f315cf91-2541-4755-89e6-32b93233a50d",
   "metadata": {},
   "outputs": [],
   "source": [
    "\n",
    "# Use filter to extract all \"non-cloudy\" images: ones with less than 20% cloud cover\n",
    "dat_nocld=gdat_filt.filter('CLOUD_COVER < 0.2')\n"
   ]
  },
  {
   "cell_type": "code",
   "execution_count": 23,
   "id": "d6b11c06-7a78-4f77-9eae-0286070fcd82",
   "metadata": {},
   "outputs": [],
   "source": [
    "\n",
    "dat_drght=dat_nocld.filter(ee.Filter.date('2020-10-01', '2020-12-31')).mean();\n",
    "\n",
    "dat_drght_3mo_later=dat_nocld.filter(ee.Filter.date('2020-12-31', '2021-3-31')).mean();\n",
    "\n",
    "dat_drght_6mo_later=dat_nocld.filter(ee.Filter.date('2021-03-31', '2021-05-31')).mean();"
   ]
  },
  {
   "cell_type": "code",
   "execution_count": 7,
   "id": "6a2808de-89a6-4bea-b552-2c83e25e6ad6",
   "metadata": {},
   "outputs": [],
   "source": [
    "red = dat_drght.select('B4')\n",
    "nir = dat_drght.select('B5')\n",
    "\n",
    "ndvi=(nir.subtract(red)).divide((nir.add(red))).rename('NDVI')"
   ]
  },
  {
   "cell_type": "code",
   "execution_count": 8,
   "id": "213e9474-cdb2-4ba5-9666-3665f78f8437",
   "metadata": {},
   "outputs": [],
   "source": [
    "ndviParams = {'min': -1, \n",
    "              'max': 1, \n",
    "              'palette': ['blue', 'white', 'green']\n",
    "             }"
   ]
  },
  {
   "cell_type": "code",
   "execution_count": 11,
   "id": "935dbb4f-e4fe-4de3-a52a-fb1bbf005c5b",
   "metadata": {},
   "outputs": [],
   "source": [
    "visParams = {'bands': ['B4', 'B3', 'B2'],\n",
    "             'min': 0,\n",
    "             'max': 0.3\n",
    "            }"
   ]
  },
  {
   "cell_type": "code",
   "execution_count": 14,
   "id": "33f91773-fb7a-4f41-9af4-b5086c89da3e",
   "metadata": {},
   "outputs": [],
   "source": [
    "visParsFire = {'bands': ['B7', 'B5', 'B2'],\n",
    "             'min': 0,\n",
    "             'max': 0.3\n",
    "            }"
   ]
  },
  {
   "cell_type": "code",
   "execution_count": 19,
   "id": "e019889c-ae2f-4f9e-89ff-13c60901cc0f",
   "metadata": {},
   "outputs": [],
   "source": [
    "# Add another layer to the map showing false color images\n",
    "Map.addLayer(dat_drght,visParsFire,'7-5-2 False Color')"
   ]
  },
  {
   "cell_type": "code",
   "execution_count": 26,
   "id": "cbd09973-2094-406c-9252-f00deb6d7fe1",
   "metadata": {},
   "outputs": [],
   "source": [
    "Map.addLayer(dat_drght_6mo_later,visParsFire,'7-5-2 False Color')"
   ]
  },
  {
   "cell_type": "code",
   "execution_count": 12,
   "id": "c433671a-9069-4ec0-8fa2-10738d5389ef",
   "metadata": {},
   "outputs": [],
   "source": [
    "Map.addLayer(dat_drght, visParams)"
   ]
  },
  {
   "cell_type": "code",
   "execution_count": 9,
   "id": "1a87d915-ffd4-48e2-af94-5e21c37236bb",
   "metadata": {},
   "outputs": [
    {
     "data": {
      "application/vnd.jupyter.widget-view+json": {
       "model_id": "3e823ca484f348da8d2c222a9e48d270",
       "version_major": 2,
       "version_minor": 0
      },
      "text/plain": [
       "Map(center=[37.22, -121.54], controls=(WidgetControl(options=['position', 'transparent_bg'], widget=HBox(child…"
      ]
     },
     "execution_count": 9,
     "metadata": {},
     "output_type": "execute_result"
    }
   ],
   "source": [
    "Map = geemap.Map(center=[37.22, -121.54], zoom=8)\n",
    "Map"
   ]
  },
  {
   "cell_type": "code",
   "execution_count": 10,
   "id": "3cc9cdc1-a352-47af-a6dd-7324fcc2be4b",
   "metadata": {},
   "outputs": [],
   "source": [
    "# Add NDVI to basemap\n",
    "Map.addLayer(ndvi, ndviParams,'NDVI')"
   ]
  }
 ],
 "metadata": {
  "kernelspec": {
   "display_name": "Python 3 (ipykernel)",
   "language": "python",
   "name": "python3"
  },
  "language_info": {
   "codemirror_mode": {
    "name": "ipython",
    "version": 3
   },
   "file_extension": ".py",
   "mimetype": "text/x-python",
   "name": "python",
   "nbconvert_exporter": "python",
   "pygments_lexer": "ipython3",
   "version": "3.10.5"
  }
 },
 "nbformat": 4,
 "nbformat_minor": 5
}
