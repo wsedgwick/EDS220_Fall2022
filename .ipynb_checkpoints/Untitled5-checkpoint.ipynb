{
 "cells": [
  {
   "cell_type": "code",
   "execution_count": 38,
   "id": "e685e776-b316-48de-868d-ab81ae26b00b",
   "metadata": {},
   "outputs": [
    {
     "ename": "ModuleNotFoundError",
     "evalue": "No module named 'earthpy'",
     "output_type": "error",
     "traceback": [
      "\u001b[0;31m---------------------------------------------------------------------------\u001b[0m",
      "\u001b[0;31mModuleNotFoundError\u001b[0m                       Traceback (most recent call last)",
      "Input \u001b[0;32mIn [38]\u001b[0m, in \u001b[0;36m<cell line: 5>\u001b[0;34m()\u001b[0m\n\u001b[1;32m      2\u001b[0m \u001b[38;5;28;01mimport\u001b[39;00m \u001b[38;5;21;01mgeemap\u001b[39;00m\n\u001b[1;32m      3\u001b[0m \u001b[38;5;28;01mimport\u001b[39;00m \u001b[38;5;21;01mpandas\u001b[39;00m \u001b[38;5;28;01mas\u001b[39;00m \u001b[38;5;21;01mpd\u001b[39;00m\n\u001b[0;32m----> 5\u001b[0m \u001b[38;5;28;01mimport\u001b[39;00m \u001b[38;5;21;01mearthpy\u001b[39;00m \u001b[38;5;28;01mas\u001b[39;00m \u001b[38;5;21;01met\u001b[39;00m\n\u001b[1;32m      6\u001b[0m \u001b[38;5;28;01mimport\u001b[39;00m \u001b[38;5;21;01mearthpy\u001b[39;00m\u001b[38;5;21;01m.\u001b[39;00m\u001b[38;5;21;01mspatial\u001b[39;00m \u001b[38;5;28;01mas\u001b[39;00m \u001b[38;5;21;01mes\u001b[39;00m\n\u001b[1;32m      7\u001b[0m \u001b[38;5;28;01mimport\u001b[39;00m \u001b[38;5;21;01mearthpy\u001b[39;00m\u001b[38;5;21;01m.\u001b[39;00m\u001b[38;5;21;01mplot\u001b[39;00m \u001b[38;5;28;01mas\u001b[39;00m \u001b[38;5;21;01mep\u001b[39;00m\n",
      "\u001b[0;31mModuleNotFoundError\u001b[0m: No module named 'earthpy'"
     ]
    }
   ],
   "source": [
    "import ee\n",
    "import geemap\n",
    "import pandas as pd\n",
    "\n",
    "import earthpy as et\n",
    "import earthpy.spatial as es\n",
    "import earthpy.plot as ep\n",
    "\n",
    "\n",
    "ee.Initialize()\n",
    "\n",
    "# CREATE MASK TO ONLY GET VALUES FROM AROUND FIRE - OISSTv2"
   ]
  },
  {
   "cell_type": "code",
   "execution_count": null,
   "id": "b021283a-80a0-43dd-9bc8-0e6aa640f3fc",
   "metadata": {},
   "outputs": [],
   "source": [
    "from glob import glob\n",
    "import numpy as np\n",
    "import matplotlib.pyplot as plt\n",
    "from matplotlib.colors import ListedColormap\n"
   ]
  },
  {
   "cell_type": "code",
   "execution_count": 2,
   "id": "85deaf7a-17aa-4aff-951e-72688f636b7f",
   "metadata": {},
   "outputs": [],
   "source": [
    "# Read in landsat images\n",
    "gdat = ee.ImageCollection('LANDSAT/LC08/C01/T1_TOA')"
   ]
  },
  {
   "cell_type": "code",
   "execution_count": 3,
   "id": "c570a760-8402-40a9-9d93-f6bf4d43de27",
   "metadata": {},
   "outputs": [],
   "source": [
    "# Filter to images overlapping with the SCU complex fire\n",
    "pt = ee.Geometry.Point([-121.54, 37.22])\n",
    "gdat_filt = gdat.filterBounds(pt)\n",
    "\n",
    "dat_nocld=gdat_filt.filter('CLOUD_COVER < 0.2')"
   ]
  },
  {
   "cell_type": "code",
   "execution_count": 8,
   "id": "a3ff491c-e396-43fd-95f5-39d44ab2f394",
   "metadata": {},
   "outputs": [],
   "source": [
    "# NORMALIZED BURN RATIO\n",
    "\n",
    "dat_drght=dat_nocld.filter(ee.Filter.date('2020-10-01', '2020-10-31')).mean();\n",
    "\n",
    "# normalized difference burn ratio\n",
    "dat_drght_before=dat_nocld.filter(ee.Filter.date('2020-08-01', '2020-08-16')).mean();\n",
    "dat_drght_after=dat_nocld.filter(ee.Filter.date('2020-09-16', '2020-10-15')).mean();\n",
    "\n",
    "# diff = dat_drght_before - dat_drght_after"
   ]
  },
  {
   "cell_type": "code",
   "execution_count": 25,
   "id": "0b292da1-5ef2-4d65-8f58-7c17d49803a0",
   "metadata": {},
   "outputs": [],
   "source": [
    "# NORMALIZED DIFFERENCE VEGETATION INDEX\n",
    "\n",
    "# CODE FROM CLASS\n",
    "visParsFire = {'bands': ['B7', 'B5', 'B2'],\n",
    "             'min': 0,\n",
    "             'max': 0.3\n",
    "            }"
   ]
  },
  {
   "cell_type": "code",
   "execution_count": 31,
   "id": "b177daa1-2cd1-44e2-a010-5c005f501d08",
   "metadata": {},
   "outputs": [],
   "source": [
    "# burn ratio params\n",
    "burnParams = {'bands': ['B7', 'B5', 'B2'],\n",
    "              'min': 0,\n",
    "              'max': 0.3\n",
    "             }\n",
    "\n",
    "# setting nbr\n",
    "swir = dat_drght.select('B7')\n",
    "nir = dat_drght.select('B5')\n",
    "\n",
    "nbr=(nir.subtract(swir)).divide((nir.add(swir))).rename('NBR')\n",
    "\n",
    "\n",
    "\n",
    "visParams = {'bands': ['NBR'],\n",
    "             'min': 0,\n",
    "             'max': 0.3,\n",
    "             'palette': ['red', 'orange', 'yellow', 'green', 'darkgreen']\n",
    "            }\n",
    "# 'palette': ['0000FF', 'FF0000']"
   ]
  },
  {
   "cell_type": "code",
   "execution_count": null,
   "id": "989a9abf-1002-4a36-9aed-daef2f0a8546",
   "metadata": {},
   "outputs": [],
   "source": [
    "nbr = es.normalized_diff(arr_st[4], arr_st[3])"
   ]
  },
  {
   "cell_type": "code",
   "execution_count": 12,
   "id": "bc59490a-b3ff-4973-aa35-12a1c97d71a1",
   "metadata": {},
   "outputs": [
    {
     "data": {
      "application/vnd.jupyter.widget-view+json": {
       "model_id": "0ac55c38d6f8441db5a70e0ade10c2c3",
       "version_major": 2,
       "version_minor": 0
      },
      "text/plain": [
       "Map(center=[37.22, -121.54], controls=(WidgetControl(options=['position', 'transparent_bg'], widget=HBox(child…"
      ]
     },
     "execution_count": 12,
     "metadata": {},
     "output_type": "execute_result"
    }
   ],
   "source": [
    "Map = geemap.Map(center=[37.22, -121.54], zoom=8)\n",
    "Map"
   ]
  },
  {
   "cell_type": "code",
   "execution_count": 32,
   "id": "4b590b52-a81d-4798-8a3d-8456eeb6c4b5",
   "metadata": {},
   "outputs": [],
   "source": [
    "Map.addLayer(nbr, visParams, '7-5-2 False Color')"
   ]
  },
  {
   "cell_type": "code",
   "execution_count": 26,
   "id": "66bad226-d699-4b1e-8280-bbc57772c13b",
   "metadata": {},
   "outputs": [],
   "source": [
    "Map.addLayer(dat_drght,visParsFire,'7-5-2 False Color')"
   ]
  }
 ],
 "metadata": {
  "kernelspec": {
   "display_name": "Python 3 (ipykernel)",
   "language": "python",
   "name": "python3"
  },
  "language_info": {
   "codemirror_mode": {
    "name": "ipython",
    "version": 3
   },
   "file_extension": ".py",
   "mimetype": "text/x-python",
   "name": "python",
   "nbconvert_exporter": "python",
   "pygments_lexer": "ipython3",
   "version": "3.10.5"
  }
 },
 "nbformat": 4,
 "nbformat_minor": 5
}
