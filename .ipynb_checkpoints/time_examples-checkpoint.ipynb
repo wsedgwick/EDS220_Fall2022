{
 "cells": [
  {
   "cell_type": "markdown",
   "id": "b94fa3a9-9b5e-44be-8427-4d40c7d629df",
   "metadata": {
    "tags": []
   },
   "source": [
    "## Simple time handling examples in Python\n",
    "### EDS 220 \n",
    "### September 27, 2022\n",
    "\n",
    "Here are a few extremely simple examples to demonstrate usage of different time handling methods in Python. We'll work with the two most commonly encountered time methods in environmental data science: the `datetime` package and the Numpy-based `datetime64`. Helpful documentation for each can be found here:\n",
    " * [Numpy datetime64](https://numpy.org/doc/stable/reference/arrays.datetime.html)\n",
    " * [Python native datetime](https://docs.python.org/3/library/datetime.html#)\n",
    "\n",
    "\n",
    "Typically when working with the `datetime` package, one imports different features of that package to make them individually callable. Let's do that here:"
   ]
  },
  {
   "cell_type": "code",
   "execution_count": 13,
   "id": "17bbc846-a939-4598-a5c5-39edbe501470",
   "metadata": {},
   "outputs": [],
   "source": [
    "import numpy as np\n",
    "from datetime import datetime, date, time"
   ]
  },
  {
   "cell_type": "markdown",
   "id": "fb2094e7-97cb-4682-b896-0c8f6635f6f3",
   "metadata": {},
   "source": [
    "#### Datetime examples:"
   ]
  },
  {
   "cell_type": "code",
   "execution_count": 14,
   "id": "e0effe27-9b22-4529-afee-148e5213ca12",
   "metadata": {},
   "outputs": [
    {
     "data": {
      "text/plain": [
       "datetime.datetime(2022, 9, 27, 17, 22, 2, 526027)"
      ]
     },
     "execution_count": 14,
     "metadata": {},
     "output_type": "execute_result"
    }
   ],
   "source": [
    "# Current time\n",
    "datetime.now()"
   ]
  },
  {
   "cell_type": "code",
   "execution_count": 15,
   "id": "43d6b750-ebc4-4121-ae52-839386f3afa6",
   "metadata": {},
   "outputs": [
    {
     "data": {
      "text/plain": [
       "datetime.datetime(2022, 12, 2, 0, 0)"
      ]
     },
     "execution_count": 15,
     "metadata": {},
     "output_type": "execute_result"
    }
   ],
   "source": [
    "# Specified time\n",
    "datetime(2022, 12, 2)"
   ]
  },
  {
   "cell_type": "code",
   "execution_count": 16,
   "id": "51ea8436-5762-450b-becc-4d6c0941c05a",
   "metadata": {},
   "outputs": [
    {
     "data": {
      "text/plain": [
       "datetime.timedelta(days=65, seconds=23806, microseconds=949521)"
      ]
     },
     "execution_count": 16,
     "metadata": {},
     "output_type": "execute_result"
    }
   ],
   "source": [
    "# Length of time between now and the end of the quarter\n",
    "datetime(2022,12,2) - datetime.now()"
   ]
  },
  {
   "cell_type": "markdown",
   "id": "8b3d4653-43ac-44bd-a119-9e96b7208e85",
   "metadata": {},
   "source": [
    "#### Numpy datetime64 examples:"
   ]
  },
  {
   "cell_type": "code",
   "execution_count": 17,
   "id": "a5074cf7-d768-4800-8159-c62d90e6cb1f",
   "metadata": {},
   "outputs": [
    {
     "data": {
      "text/plain": [
       "numpy.datetime64('2022-09-27T17:24:46')"
      ]
     },
     "execution_count": 17,
     "metadata": {},
     "output_type": "execute_result"
    }
   ],
   "source": [
    "# Current time\n",
    "np.datetime64('now')"
   ]
  },
  {
   "cell_type": "code",
   "execution_count": 18,
   "id": "769da637-1a27-4d16-ad8f-3a685be41d44",
   "metadata": {},
   "outputs": [
    {
     "data": {
      "text/plain": [
       "numpy.datetime64('2022-12-02')"
      ]
     },
     "execution_count": 18,
     "metadata": {},
     "output_type": "execute_result"
    }
   ],
   "source": [
    "# Specified time\n",
    "np.datetime64('2022-12-02')"
   ]
  },
  {
   "cell_type": "code",
   "execution_count": 19,
   "id": "a3680c4c-2037-42ac-a3cd-6a205551e73c",
   "metadata": {},
   "outputs": [
    {
     "data": {
      "text/plain": [
       "numpy.timedelta64(5639664,'s')"
      ]
     },
     "execution_count": 19,
     "metadata": {},
     "output_type": "execute_result"
    }
   ],
   "source": [
    "# Length of time between now and the end of the quarter\n",
    "np.datetime64('2022-12-02') - np.datetime64('now')"
   ]
  },
  {
   "cell_type": "code",
   "execution_count": 20,
   "id": "57cfa2f3-35fd-4a61-b608-7b31d7b514d8",
   "metadata": {},
   "outputs": [
    {
     "data": {
      "text/plain": [
       "numpy.timedelta64(66,'D')"
      ]
     },
     "execution_count": 20,
     "metadata": {},
     "output_type": "execute_result"
    }
   ],
   "source": [
    "# Length of time between now and the end of the quarter, in days\n",
    "np.datetime64('2022-12-02') - np.datetime64('2022-09-27')"
   ]
  },
  {
   "cell_type": "code",
   "execution_count": null,
   "id": "c0d30c5a-6856-42ff-9d20-c165ae729ba3",
   "metadata": {},
   "outputs": [],
   "source": []
  }
 ],
 "metadata": {
  "kernelspec": {
   "display_name": "Anaconda Base",
   "language": "python",
   "name": "base"
  },
  "language_info": {
   "codemirror_mode": {
    "name": "ipython",
    "version": 3
   },
   "file_extension": ".py",
   "mimetype": "text/x-python",
   "name": "python",
   "nbconvert_exporter": "python",
   "pygments_lexer": "ipython3",
   "version": "3.9.12"
  }
 },
 "nbformat": 4,
 "nbformat_minor": 5
}
