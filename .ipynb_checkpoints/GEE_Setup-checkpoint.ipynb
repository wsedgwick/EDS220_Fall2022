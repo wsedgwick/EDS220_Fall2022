{
 "cells": [
  {
   "cell_type": "markdown",
   "id": "7d017e47-9c94-4321-b8af-6be11b03c947",
   "metadata": {},
   "source": [
    "# EDS Fall 2022\n",
    "# Getting Started with Python and Google Earth Engine: Fun With Environments!\n",
    "\n",
    "This mini-notebook is designed to help you set up and launch the [Google Earth Engine](https://earthengine.google.com/) in Python! \n",
    "\n",
    "We will be taking advantage of GEE's Python Application Programming Interface, or API. This allows us to write Python code and send it to the GEE server, and have it return a response back in a form that Python can then understand. The other default way to access GEE is through its native interface, which is based in Java!\n",
    "\n",
    "## Who Should Use These Instructions\n",
    "\n",
    "The below instructions assume that you are working on your own machine, and that you have access to conda and pip for creating custom environments and installing packages. If you are working on the Bren Taylor server, you __do not need__ to follow these steps since things should already be working correctly!"
   ]
  },
  {
   "cell_type": "markdown",
   "id": "de9a4dc8-b7ba-4515-a97c-4ced95f9e350",
   "metadata": {},
   "source": [
    "## Before starting \n",
    "\n",
    "### 1. Make sure you've installed Jupyter and GEE\n",
    "\n",
    "   The below instructions assume you've already gone through the process of [installing Jupyter and GEE](https://docs.google.com/document/d/1P1c6Ef7D1OoGaTaOrPDO0m5LBN1okpGlU0OXKKzsoi0/edit). \n",
    "   \n",
    "### 2. Make sure your GEE environment is active\n",
    "\n",
    "   The instruction document talks about this: but in order to successfully use GEE in Python, you need to make sure that Python has been launched in an environment that can 'see' it. In this class, we'll use conda to create our environments.\n",
    "   \n",
    "   *What this means for us:* The environment containing GEE that you created (in the instruction example, it is called 'gee_env') needs to be **activated**. You need to do this **before launching JupyterLab**, by typing 'conda activate gee_env' on the command line in your terminal window.\n",
    "   \n",
    "####   **If you accidentally launch JupyterLab without activating the GEE environment**, *don't panic* - just close JupyterLab and start over again!"
   ]
  },
  {
   "cell_type": "markdown",
   "id": "6af137c2-64d1-431c-b59f-53e8224f024e",
   "metadata": {},
   "source": [
    "## Next steps\n",
    "\n",
    "### Loading packages: ee, pandas, and geemap\n",
    "OK now let's assume all that worked. What now? Well, the next thing we need to do is to load the Python *packages* that we'll need. This is done using the 'import' command in Python. The following chunk of code imports two packages:\n",
    "\n",
    "- \"ee\": the codes containing commands to manipulate Google Earth Engine\n",
    "- \"pandas\": the Python Data Analysis Library, which contains many useful tools for data manipulation (more on this later).\n",
    "\n",
    "You will *also* note in the below code another little idiosyncracy of Python: the \"import... as\" syntax. Python packages, once imported, are present in the workspace as objects; you can then 'call' different commands within the package using the syntax\n",
    "\n",
    "[package name].[command name]\n",
    "\n",
    "By default, Python packages are imported into objects named the same thing as the name of the package, which works just fine unless the package name is very long. To shorten things up, oftentimes Python programmers will import the package 'as' a different, usually shorter name. Common examples are:\n",
    "- import matplotlib as mpl\n",
    "- import numpy as np\n",
    "\n",
    "and so on. Here we'll use a common shorthand for pandas: \"pd\".\n",
    "\n",
    "The other important package that we'll need for the course exercises is `geemap`, the mapping package that's part of GEE. This package is not commonly provided as part of a Python installation, so we need to install it ourselves so that it can be imported into Python later. The [instructions document](https://docs.google.com/document/d/1P1c6Ef7D1OoGaTaOrPDO0m5LBN1okpGlU0OXKKzsoi0/edit) goes through how to do this with the Python Installation Package, or pip.\n",
    "\n",
    "**As a reminder**: before launching your JupyterLab instance, you should have executed the following on the command line in your terminal window:\n",
    "\n",
    "pip install geemap\n",
    "\n",
    "**If you did not do this**, the code block below will crash. Again, that's ok - just exit JupyterLab, go do your pip install, then come back again!"
   ]
  },
  {
   "cell_type": "code",
   "execution_count": 1,
   "id": "51ddcbc9-053a-4895-9f77-d02d70b69438",
   "metadata": {},
   "outputs": [],
   "source": [
    "import ee\n",
    "import pandas as pd\n",
    "import geemap"
   ]
  },
  {
   "cell_type": "markdown",
   "id": "cfd5beaf-1b47-4e4c-8abd-42d3ec74d46b",
   "metadata": {},
   "source": [
    "You can test to make sure that your import worked, by typing the name that you imported the packages as on the command line. This should give you output that looks like:\n",
    "\n",
    "`ee`\n",
    "\n",
    "`<module 'ee' from '/Users/samstevenson/opt/anaconda3/envs/ee/lib/python3.9/site-packages/ee/__init__.py'>`"
   ]
  },
  {
   "cell_type": "code",
   "execution_count": 2,
   "id": "ec960fb3-a2fe-449b-a37c-0c053372a0bc",
   "metadata": {},
   "outputs": [
    {
     "data": {
      "text/plain": [
       "<module 'ee' from '/Users/samstevenson/opt/anaconda3/envs/gee_env/lib/python3.9/site-packages/ee/__init__.py'>"
      ]
     },
     "execution_count": 2,
     "metadata": {},
     "output_type": "execute_result"
    }
   ],
   "source": [
    "ee"
   ]
  },
  {
   "cell_type": "markdown",
   "id": "e67e04b1-8fdb-4798-b90f-ff907c12f854",
   "metadata": {},
   "source": [
    "The final test of whether this has all worked correctly: whether we can actually display a map! The 'Map' command in geemap takes care of this - it generates a \"basemap\" over which you can plot various data sources within GEE. There are different options for that basemap, but the default one, naturally, is Google Maps. Try this and see if you get something that looks like a regular Google map!"
   ]
  },
  {
   "cell_type": "code",
   "execution_count": 3,
   "id": "75e61e5c-3761-4372-aa24-59f89e96c3fe",
   "metadata": {},
   "outputs": [
    {
     "data": {
      "application/vnd.jupyter.widget-view+json": {
       "model_id": "95cba57300b34c13ab2790d0022428b1",
       "version_major": 2,
       "version_minor": 0
      },
      "text/plain": [
       "Map(center=[40, -100], controls=(WidgetControl(options=['position', 'transparent_bg'], widget=HBox(children=(T…"
      ]
     },
     "execution_count": 3,
     "metadata": {},
     "output_type": "execute_result"
    }
   ],
   "source": [
    "Map = geemap.Map(center=[40,-100], zoom=2)\n",
    "Map"
   ]
  },
  {
   "cell_type": "code",
   "execution_count": null,
   "id": "75fb01f8-c289-4e14-9eb1-583046681e54",
   "metadata": {},
   "outputs": [],
   "source": []
  }
 ],
 "metadata": {
  "kernelspec": {
   "display_name": "Python 3 (ipykernel)",
   "language": "python",
   "name": "python3"
  },
  "language_info": {
   "codemirror_mode": {
    "name": "ipython",
    "version": 3
   },
   "file_extension": ".py",
   "mimetype": "text/x-python",
   "name": "python",
   "nbconvert_exporter": "python",
   "pygments_lexer": "ipython3",
   "version": "3.9.7"
  }
 },
 "nbformat": 4,
 "nbformat_minor": 5
}
