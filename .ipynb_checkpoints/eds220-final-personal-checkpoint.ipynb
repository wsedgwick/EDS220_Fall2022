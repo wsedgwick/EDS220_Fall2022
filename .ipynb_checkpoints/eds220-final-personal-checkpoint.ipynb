{
 "cells": [
  {
   "cell_type": "code",
   "execution_count": 1,
   "id": "7dafd6e6-e7db-48a2-ab20-2ead8dbd5abe",
   "metadata": {},
   "outputs": [],
   "source": [
    "import ee\n",
    "import geemap\n",
    "import pandas as pd\n",
    "\n",
    "ee.Initialize()"
   ]
  },
  {
   "cell_type": "code",
   "execution_count": 2,
   "id": "d62670c8-f93a-4df5-8aec-76eebebebbc8",
   "metadata": {},
   "outputs": [],
   "source": [
    "gdat = ee.ImageCollection('LANDSAT/LC08/C01/T1_TOA')\n",
    "\n",
    "veg_cover=ee.ImageCollection(\"LANDFIRE/Vegetation/EVC/v1_4_0\")\n",
    "\n",
    "pt = ee.Geometry.Point([-121.54, 37.22])\n",
    "veg_filt = veg_cover.filterBounds(pt)\n",
    "\n",
    "veg_cover_aft_fire=veg_filt.filter(ee.Filter.date('2020-10-01', '2020-12-01')).mean();"
   ]
  },
  {
   "cell_type": "code",
   "execution_count": 4,
   "id": "ec4ab212-a55a-4747-9880-b5fea4b3bd23",
   "metadata": {},
   "outputs": [],
   "source": [
    "vegParams = {'bands': ['EVC'],\n",
    "             'min': 111,\n",
    "             'max': 119,\n",
    "             'palette': ['brown','white','green']\n",
    "            }"
   ]
  },
  {
   "cell_type": "code",
   "execution_count": 3,
   "id": "6caaa9bc-d696-4e0f-8f2b-a0aace63d54e",
   "metadata": {},
   "outputs": [],
   "source": [
    "# Filter to images overlapping \n",
    "pt = ee.Geometry.Point([-121.54, 37.22])\n",
    "\n",
    "gdat_filt = gdat.filterBounds(pt)"
   ]
  },
  {
   "cell_type": "code",
   "execution_count": 5,
   "id": "8b389e2a-e21e-4b60-aa20-bc426e0c5fc7",
   "metadata": {},
   "outputs": [
    {
     "data": {
      "application/vnd.jupyter.widget-view+json": {
       "model_id": "b2aad21b7cbc474e9c4a8090b1d8f6e8",
       "version_major": 2,
       "version_minor": 0
      },
      "text/plain": [
       "Map(center=[37.22, -121.54], controls=(WidgetControl(options=['position', 'transparent_bg'], widget=HBox(child…"
      ]
     },
     "execution_count": 5,
     "metadata": {},
     "output_type": "execute_result"
    }
   ],
   "source": [
    "Map = geemap.Map(center=[37.22, -121.54], zoom=8)\n",
    "Map"
   ]
  },
  {
   "cell_type": "code",
   "execution_count": 6,
   "id": "6ac60cef-c5de-4a1f-a468-b0b4dd40cfa9",
   "metadata": {},
   "outputs": [],
   "source": [
    "Map.addLayer(veg_filt, vegParams)"
   ]
  },
  {
   "cell_type": "code",
   "execution_count": 4,
   "id": "f315cf91-2541-4755-89e6-32b93233a50d",
   "metadata": {},
   "outputs": [],
   "source": [
    "\n",
    "# Use filter to extract all \"non-cloudy\" images: ones with less than 20% cloud cover\n",
    "dat_nocld=gdat_filt.filter('CLOUD_COVER < 0.2')\n"
   ]
  },
  {
   "cell_type": "code",
   "execution_count": 7,
   "id": "d6b11c06-7a78-4f77-9eae-0286070fcd82",
   "metadata": {},
   "outputs": [],
   "source": [
    "# filtering by date\n",
    "dat_drght=dat_nocld.filter(ee.Filter.date('2020-10-01', '2020-12-31')).mean();\n",
    "\n",
    "dat_drght_3mo_later=dat_nocld.filter(ee.Filter.date('2020-12-31', '2021-3-31')).mean();\n",
    "\n",
    "dat_drght_6mo_later=dat_nocld.filter(ee.Filter.date('2021-03-31', '2021-05-31')).mean();"
   ]
  },
  {
   "cell_type": "code",
   "execution_count": 8,
   "id": "1505098b-2ac8-42cb-b84d-af9f6456599b",
   "metadata": {},
   "outputs": [],
   "source": [
    "# normalized difference burn ratio\n",
    "\n",
    "dat_drght_before=dat_nocld.filter(ee.Filter.date('2020-08-01', '2020-08-16')).mean();\n",
    "dat_drght_after=dat_nocld.filter(ee.Filter.date('2020-09-16', '2020-10-15')).mean();\n",
    "\n",
    "# diff = dat_drght_before - dat_drght_after"
   ]
  },
  {
   "cell_type": "code",
   "execution_count": 9,
   "id": "6a2808de-89a6-4bea-b552-2c83e25e6ad6",
   "metadata": {},
   "outputs": [],
   "source": [
    "red = dat_drght.select('B4')\n",
    "nir = dat_drght.select('B5')\n",
    "\n",
    "ndvi=(nir.subtract(red)).divide((nir.add(red))).rename('NDVI')"
   ]
  },
  {
   "cell_type": "code",
   "execution_count": 5,
   "id": "a229a477-7bfd-4c05-9621-20116adfc2d9",
   "metadata": {},
   "outputs": [
    {
     "ename": "NameError",
     "evalue": "name 'dat_drght' is not defined",
     "output_type": "error",
     "traceback": [
      "\u001b[0;31m---------------------------------------------------------------------------\u001b[0m",
      "\u001b[0;31mNameError\u001b[0m                                 Traceback (most recent call last)",
      "Input \u001b[0;32mIn [5]\u001b[0m, in \u001b[0;36m<cell line: 8>\u001b[0;34m()\u001b[0m\n\u001b[1;32m      1\u001b[0m \u001b[38;5;66;03m# burn ratio params\u001b[39;00m\n\u001b[1;32m      3\u001b[0m burnParams \u001b[38;5;241m=\u001b[39m {\u001b[38;5;124m'\u001b[39m\u001b[38;5;124mbands\u001b[39m\u001b[38;5;124m'\u001b[39m: [\u001b[38;5;124m'\u001b[39m\u001b[38;5;124mB7\u001b[39m\u001b[38;5;124m'\u001b[39m, \u001b[38;5;124m'\u001b[39m\u001b[38;5;124mB5\u001b[39m\u001b[38;5;124m'\u001b[39m, \u001b[38;5;124m'\u001b[39m\u001b[38;5;124mB2\u001b[39m\u001b[38;5;124m'\u001b[39m],\n\u001b[1;32m      4\u001b[0m               \u001b[38;5;124m'\u001b[39m\u001b[38;5;124mmin\u001b[39m\u001b[38;5;124m'\u001b[39m: \u001b[38;5;241m0\u001b[39m,\n\u001b[1;32m      5\u001b[0m               \u001b[38;5;124m'\u001b[39m\u001b[38;5;124mmax\u001b[39m\u001b[38;5;124m'\u001b[39m: \u001b[38;5;241m0.3\u001b[39m\n\u001b[1;32m      6\u001b[0m              }\n\u001b[0;32m----> 8\u001b[0m nir \u001b[38;5;241m=\u001b[39m \u001b[43mdat_drght\u001b[49m\u001b[38;5;241m.\u001b[39mselect(\u001b[38;5;124m'\u001b[39m\u001b[38;5;124mB5\u001b[39m\u001b[38;5;124m'\u001b[39m)\n\u001b[1;32m      9\u001b[0m swir \u001b[38;5;241m=\u001b[39m dat_drght\u001b[38;5;241m.\u001b[39mselect(\u001b[38;5;124m'\u001b[39m\u001b[38;5;124mB7\u001b[39m\u001b[38;5;124m'\u001b[39m)\n\u001b[1;32m     11\u001b[0m nbr\u001b[38;5;241m=\u001b[39m(nir\u001b[38;5;241m.\u001b[39msubtract(swir))\u001b[38;5;241m.\u001b[39mdivide((nir\u001b[38;5;241m.\u001b[39madd(swir)))\u001b[38;5;241m.\u001b[39mrename(\u001b[38;5;124m'\u001b[39m\u001b[38;5;124mNBR\u001b[39m\u001b[38;5;124m'\u001b[39m)\n",
      "\u001b[0;31mNameError\u001b[0m: name 'dat_drght' is not defined"
     ]
    }
   ],
   "source": [
    "# burn ratio params\n",
    "\n",
    "burnParams = {'bands': ['B7', 'B5', 'B2'],\n",
    "              'min': 0,\n",
    "              'max': 1\n",
    "             }\n",
    "\n",
    "nir = dat_drght.select('B5')\n",
    "swir = dat_drght.select('B7')\n",
    "\n",
    "nbr=(nir.subtract(swir)).divide((nir.add(swir))).rename('NBR')"
   ]
  },
  {
   "cell_type": "code",
   "execution_count": 10,
   "id": "213e9474-cdb2-4ba5-9666-3665f78f8437",
   "metadata": {},
   "outputs": [],
   "source": [
    "ndviParams = {'min': -1, \n",
    "              'max': 1, \n",
    "              'palette': ['blue', 'white', 'green']\n",
    "             }"
   ]
  },
  {
   "cell_type": "code",
   "execution_count": 11,
   "id": "935dbb4f-e4fe-4de3-a52a-fb1bbf005c5b",
   "metadata": {},
   "outputs": [],
   "source": [
    "visParams = {'bands': ['B4', 'B3', 'B2'],\n",
    "             'min': 0,\n",
    "             'max': 0.3\n",
    "            }"
   ]
  },
  {
   "cell_type": "code",
   "execution_count": 12,
   "id": "33f91773-fb7a-4f41-9af4-b5086c89da3e",
   "metadata": {},
   "outputs": [],
   "source": [
    "visParsFire = {'bands': ['B7', 'B5', 'B2'],\n",
    "             'min': 0,\n",
    "             'max': 0.3\n",
    "            }"
   ]
  },
  {
   "cell_type": "code",
   "execution_count": 19,
   "id": "e019889c-ae2f-4f9e-89ff-13c60901cc0f",
   "metadata": {},
   "outputs": [],
   "source": [
    "# Add another layer to the map showing false color images\n",
    "Map.addLayer(dat_drght,visParsFire,'7-5-2 False Color')"
   ]
  },
  {
   "cell_type": "code",
   "execution_count": 20,
   "id": "cbd09973-2094-406c-9252-f00deb6d7fe1",
   "metadata": {},
   "outputs": [],
   "source": [
    "Map.addLayer(dat_drght_6mo_later,visParsFire,'7-5-2 False Color')"
   ]
  },
  {
   "cell_type": "code",
   "execution_count": 45,
   "id": "0369c679-d2be-41f2-8273-5e940f12c020",
   "metadata": {},
   "outputs": [],
   "source": [
    "Map.addLayer(dat_drght_before, visParsFire, '7-5-2 False Color')"
   ]
  },
  {
   "cell_type": "code",
   "execution_count": 47,
   "id": "99d81cdd-f41c-415f-a1a9-a1bfb8a75767",
   "metadata": {},
   "outputs": [],
   "source": [
    "Map.addLayer(dat_drght_after, visParsFire, '7-5-2 False Color')"
   ]
  },
  {
   "cell_type": "code",
   "execution_count": 17,
   "id": "c433671a-9069-4ec0-8fa2-10738d5389ef",
   "metadata": {},
   "outputs": [],
   "source": [
    "Map.addLayer(dat_drght, visParams)"
   ]
  },
  {
   "cell_type": "code",
   "execution_count": 11,
   "id": "1a87d915-ffd4-48e2-af94-5e21c37236bb",
   "metadata": {},
   "outputs": [
    {
     "data": {
      "application/vnd.jupyter.widget-view+json": {
       "model_id": "27a8b7b3e6de44858603dcd0e0e2505c",
       "version_major": 2,
       "version_minor": 0
      },
      "text/plain": [
       "Map(center=[37.22, -121.54], controls=(WidgetControl(options=['position', 'transparent_bg'], widget=HBox(child…"
      ]
     },
     "execution_count": 11,
     "metadata": {},
     "output_type": "execute_result"
    }
   ],
   "source": [
    "Map = geemap.Map(center=[37.22, -121.54], zoom=8)\n",
    "Map"
   ]
  },
  {
   "cell_type": "code",
   "execution_count": 12,
   "id": "5f97a2f8-0af1-41b5-938c-52b301783637",
   "metadata": {},
   "outputs": [
    {
     "ename": "EEException",
     "evalue": "Image.visualize: No band named 'B7'. Available band names: [NBR].",
     "output_type": "error",
     "traceback": [
      "\u001b[0;31m---------------------------------------------------------------------------\u001b[0m",
      "\u001b[0;31mHttpError\u001b[0m                                 Traceback (most recent call last)",
      "File \u001b[0;32m/opt/python/3.10.5/lib/python3.10/site-packages/ee/data.py:328\u001b[0m, in \u001b[0;36m_execute_cloud_call\u001b[0;34m(call, num_retries)\u001b[0m\n\u001b[1;32m    327\u001b[0m \u001b[38;5;28;01mtry\u001b[39;00m:\n\u001b[0;32m--> 328\u001b[0m   \u001b[38;5;28;01mreturn\u001b[39;00m \u001b[43mcall\u001b[49m\u001b[38;5;241;43m.\u001b[39;49m\u001b[43mexecute\u001b[49m\u001b[43m(\u001b[49m\u001b[43mnum_retries\u001b[49m\u001b[38;5;241;43m=\u001b[39;49m\u001b[43mnum_retries\u001b[49m\u001b[43m)\u001b[49m\n\u001b[1;32m    329\u001b[0m \u001b[38;5;28;01mexcept\u001b[39;00m googleapiclient\u001b[38;5;241m.\u001b[39merrors\u001b[38;5;241m.\u001b[39mHttpError \u001b[38;5;28;01mas\u001b[39;00m e:\n",
      "File \u001b[0;32m/opt/python/3.10.5/lib/python3.10/site-packages/googleapiclient/_helpers.py:134\u001b[0m, in \u001b[0;36mpositional.<locals>.positional_decorator.<locals>.positional_wrapper\u001b[0;34m(*args, **kwargs)\u001b[0m\n\u001b[1;32m    133\u001b[0m         logger\u001b[38;5;241m.\u001b[39mwarning(message)\n\u001b[0;32m--> 134\u001b[0m \u001b[38;5;28;01mreturn\u001b[39;00m \u001b[43mwrapped\u001b[49m\u001b[43m(\u001b[49m\u001b[38;5;241;43m*\u001b[39;49m\u001b[43margs\u001b[49m\u001b[43m,\u001b[49m\u001b[43m \u001b[49m\u001b[38;5;241;43m*\u001b[39;49m\u001b[38;5;241;43m*\u001b[39;49m\u001b[43mkwargs\u001b[49m\u001b[43m)\u001b[49m\n",
      "File \u001b[0;32m/opt/python/3.10.5/lib/python3.10/site-packages/googleapiclient/http.py:915\u001b[0m, in \u001b[0;36mHttpRequest.execute\u001b[0;34m(self, http, num_retries)\u001b[0m\n\u001b[1;32m    914\u001b[0m \u001b[38;5;28;01mif\u001b[39;00m resp\u001b[38;5;241m.\u001b[39mstatus \u001b[38;5;241m>\u001b[39m\u001b[38;5;241m=\u001b[39m \u001b[38;5;241m300\u001b[39m:\n\u001b[0;32m--> 915\u001b[0m     \u001b[38;5;28;01mraise\u001b[39;00m HttpError(resp, content, uri\u001b[38;5;241m=\u001b[39m\u001b[38;5;28mself\u001b[39m\u001b[38;5;241m.\u001b[39muri)\n\u001b[1;32m    916\u001b[0m \u001b[38;5;28;01mreturn\u001b[39;00m \u001b[38;5;28mself\u001b[39m\u001b[38;5;241m.\u001b[39mpostproc(resp, content)\n",
      "\u001b[0;31mHttpError\u001b[0m: <HttpError 400 when requesting https://earthengine.googleapis.com/v1alpha/projects/earthengine-legacy/maps?fields=name&alt=json returned \"Image.visualize: No band named 'B7'. Available band names: [NBR].\". Details: \"Image.visualize: No band named 'B7'. Available band names: [NBR].\">",
      "\nDuring handling of the above exception, another exception occurred:\n",
      "\u001b[0;31mEEException\u001b[0m                               Traceback (most recent call last)",
      "Input \u001b[0;32mIn [12]\u001b[0m, in \u001b[0;36m<cell line: 1>\u001b[0;34m()\u001b[0m\n\u001b[0;32m----> 1\u001b[0m \u001b[43mMap\u001b[49m\u001b[38;5;241;43m.\u001b[39;49m\u001b[43maddLayer\u001b[49m\u001b[43m(\u001b[49m\u001b[43mnbr\u001b[49m\u001b[43m,\u001b[49m\u001b[43m \u001b[49m\u001b[43mburnParams\u001b[49m\u001b[43m,\u001b[49m\u001b[38;5;124;43m'\u001b[39;49m\u001b[38;5;124;43mNBR\u001b[39;49m\u001b[38;5;124;43m'\u001b[39;49m\u001b[43m)\u001b[49m\n",
      "File \u001b[0;32m/opt/python/3.10.5/lib/python3.10/site-packages/geemap/geemap.py:1489\u001b[0m, in \u001b[0;36mMap.add_ee_layer\u001b[0;34m(self, ee_object, vis_params, name, shown, opacity)\u001b[0m\n\u001b[1;32m   1484\u001b[0m     \u001b[38;5;28;01melif\u001b[39;00m \u001b[38;5;129;01mnot\u001b[39;00m \u001b[38;5;28misinstance\u001b[39m(vis_params[\u001b[38;5;124m\"\u001b[39m\u001b[38;5;124mpalette\u001b[39m\u001b[38;5;124m\"\u001b[39m], \u001b[38;5;28mlist\u001b[39m):\n\u001b[1;32m   1485\u001b[0m         \u001b[38;5;28;01mraise\u001b[39;00m \u001b[38;5;167;01mValueError\u001b[39;00m(\n\u001b[1;32m   1486\u001b[0m             \u001b[38;5;124m\"\u001b[39m\u001b[38;5;124mThe palette must be a list of colors or a string or a Box object.\u001b[39m\u001b[38;5;124m\"\u001b[39m\n\u001b[1;32m   1487\u001b[0m         )\n\u001b[0;32m-> 1489\u001b[0m map_id_dict \u001b[38;5;241m=\u001b[39m \u001b[43mee\u001b[49m\u001b[38;5;241;43m.\u001b[39;49m\u001b[43mImage\u001b[49m\u001b[43m(\u001b[49m\u001b[43mimage\u001b[49m\u001b[43m)\u001b[49m\u001b[38;5;241;43m.\u001b[39;49m\u001b[43mgetMapId\u001b[49m\u001b[43m(\u001b[49m\u001b[43mvis_params\u001b[49m\u001b[43m)\u001b[49m\n\u001b[1;32m   1490\u001b[0m tile_layer \u001b[38;5;241m=\u001b[39m ipyleaflet\u001b[38;5;241m.\u001b[39mTileLayer(\n\u001b[1;32m   1491\u001b[0m     url\u001b[38;5;241m=\u001b[39mmap_id_dict[\u001b[38;5;124m\"\u001b[39m\u001b[38;5;124mtile_fetcher\u001b[39m\u001b[38;5;124m\"\u001b[39m]\u001b[38;5;241m.\u001b[39murl_format,\n\u001b[1;32m   1492\u001b[0m     attribution\u001b[38;5;241m=\u001b[39m\u001b[38;5;124m\"\u001b[39m\u001b[38;5;124mGoogle Earth Engine\u001b[39m\u001b[38;5;124m\"\u001b[39m,\n\u001b[0;32m   (...)\u001b[0m\n\u001b[1;32m   1496\u001b[0m     max_zoom\u001b[38;5;241m=\u001b[39m\u001b[38;5;241m24\u001b[39m,\n\u001b[1;32m   1497\u001b[0m )\n\u001b[1;32m   1499\u001b[0m layer \u001b[38;5;241m=\u001b[39m \u001b[38;5;28mself\u001b[39m\u001b[38;5;241m.\u001b[39mfind_layer(name\u001b[38;5;241m=\u001b[39mname)\n",
      "File \u001b[0;32m/opt/python/3.10.5/lib/python3.10/site-packages/ee/image.py:130\u001b[0m, in \u001b[0;36mImage.getMapId\u001b[0;34m(self, vis_params)\u001b[0m\n\u001b[1;32m    128\u001b[0m vis_image, request \u001b[38;5;241m=\u001b[39m \u001b[38;5;28mself\u001b[39m\u001b[38;5;241m.\u001b[39m_apply_visualization(vis_params)\n\u001b[1;32m    129\u001b[0m request[\u001b[38;5;124m'\u001b[39m\u001b[38;5;124mimage\u001b[39m\u001b[38;5;124m'\u001b[39m] \u001b[38;5;241m=\u001b[39m vis_image\n\u001b[0;32m--> 130\u001b[0m response \u001b[38;5;241m=\u001b[39m \u001b[43mdata\u001b[49m\u001b[38;5;241;43m.\u001b[39;49m\u001b[43mgetMapId\u001b[49m\u001b[43m(\u001b[49m\u001b[43mrequest\u001b[49m\u001b[43m)\u001b[49m\n\u001b[1;32m    131\u001b[0m response[\u001b[38;5;124m'\u001b[39m\u001b[38;5;124mimage\u001b[39m\u001b[38;5;124m'\u001b[39m] \u001b[38;5;241m=\u001b[39m \u001b[38;5;28mself\u001b[39m\n\u001b[1;32m    132\u001b[0m \u001b[38;5;28;01mreturn\u001b[39;00m response\n",
      "File \u001b[0;32m/opt/python/3.10.5/lib/python3.10/site-packages/ee/data.py:567\u001b[0m, in \u001b[0;36mgetMapId\u001b[0;34m(params)\u001b[0m\n\u001b[1;32m    564\u001b[0m   request[\u001b[38;5;124m'\u001b[39m\u001b[38;5;124mvisualizationOptions\u001b[39m\u001b[38;5;124m'\u001b[39m] \u001b[38;5;241m=\u001b[39m visualizationOptions\n\u001b[1;32m    565\u001b[0m \u001b[38;5;66;03m# Make it return only the name field, as otherwise it echoes the entire\u001b[39;00m\n\u001b[1;32m    566\u001b[0m \u001b[38;5;66;03m# request, which might be large.\u001b[39;00m\n\u001b[0;32m--> 567\u001b[0m result \u001b[38;5;241m=\u001b[39m \u001b[43m_execute_cloud_call\u001b[49m\u001b[43m(\u001b[49m\n\u001b[1;32m    568\u001b[0m \u001b[43m    \u001b[49m\u001b[43m_get_cloud_api_resource\u001b[49m\u001b[43m(\u001b[49m\u001b[43m)\u001b[49m\u001b[38;5;241;43m.\u001b[39;49m\u001b[43mprojects\u001b[49m\u001b[43m(\u001b[49m\u001b[43m)\u001b[49m\u001b[38;5;241;43m.\u001b[39;49m\u001b[43mmaps\u001b[49m\u001b[43m(\u001b[49m\u001b[43m)\u001b[49m\u001b[38;5;241;43m.\u001b[39;49m\u001b[43mcreate\u001b[49m\u001b[43m(\u001b[49m\n\u001b[1;32m    569\u001b[0m \u001b[43m        \u001b[49m\u001b[43mparent\u001b[49m\u001b[38;5;241;43m=\u001b[39;49m\u001b[43m_get_projects_path\u001b[49m\u001b[43m(\u001b[49m\u001b[43m)\u001b[49m\u001b[43m,\u001b[49m\u001b[43m \u001b[49m\u001b[43mfields\u001b[49m\u001b[38;5;241;43m=\u001b[39;49m\u001b[38;5;124;43m'\u001b[39;49m\u001b[38;5;124;43mname\u001b[39;49m\u001b[38;5;124;43m'\u001b[39;49m\u001b[43m,\u001b[49m\u001b[43m \u001b[49m\u001b[43mbody\u001b[49m\u001b[38;5;241;43m=\u001b[39;49m\u001b[43mrequest\u001b[49m\u001b[43m)\u001b[49m\u001b[43m)\u001b[49m\n\u001b[1;32m    570\u001b[0m map_name \u001b[38;5;241m=\u001b[39m result[\u001b[38;5;124m'\u001b[39m\u001b[38;5;124mname\u001b[39m\u001b[38;5;124m'\u001b[39m]\n\u001b[1;32m    571\u001b[0m url_format \u001b[38;5;241m=\u001b[39m \u001b[38;5;124m'\u001b[39m\u001b[38;5;132;01m%s\u001b[39;00m\u001b[38;5;124m/\u001b[39m\u001b[38;5;132;01m%s\u001b[39;00m\u001b[38;5;124m/\u001b[39m\u001b[38;5;132;01m%s\u001b[39;00m\u001b[38;5;124m/tiles/\u001b[39m\u001b[38;5;132;01m{z}\u001b[39;00m\u001b[38;5;124m/\u001b[39m\u001b[38;5;132;01m{x}\u001b[39;00m\u001b[38;5;124m/\u001b[39m\u001b[38;5;132;01m{y}\u001b[39;00m\u001b[38;5;124m'\u001b[39m \u001b[38;5;241m%\u001b[39m (\n\u001b[1;32m    572\u001b[0m     _tile_base_url, _cloud_api_utils\u001b[38;5;241m.\u001b[39mVERSION, map_name)\n",
      "File \u001b[0;32m/opt/python/3.10.5/lib/python3.10/site-packages/ee/data.py:330\u001b[0m, in \u001b[0;36m_execute_cloud_call\u001b[0;34m(call, num_retries)\u001b[0m\n\u001b[1;32m    328\u001b[0m   \u001b[38;5;28;01mreturn\u001b[39;00m call\u001b[38;5;241m.\u001b[39mexecute(num_retries\u001b[38;5;241m=\u001b[39mnum_retries)\n\u001b[1;32m    329\u001b[0m \u001b[38;5;28;01mexcept\u001b[39;00m googleapiclient\u001b[38;5;241m.\u001b[39merrors\u001b[38;5;241m.\u001b[39mHttpError \u001b[38;5;28;01mas\u001b[39;00m e:\n\u001b[0;32m--> 330\u001b[0m   \u001b[38;5;28;01mraise\u001b[39;00m _translate_cloud_exception(e)\n",
      "\u001b[0;31mEEException\u001b[0m: Image.visualize: No band named 'B7'. Available band names: [NBR]."
     ]
    }
   ],
   "source": [
    "Map.addLayer(nbr, burnParams,'NBR')"
   ]
  },
  {
   "cell_type": "code",
   "execution_count": 27,
   "id": "3cc9cdc1-a352-47af-a6dd-7324fcc2be4b",
   "metadata": {},
   "outputs": [
    {
     "ename": "EEException",
     "evalue": "Image.visualize: No band named 'B7'. Available band names: [NDVI].",
     "output_type": "error",
     "traceback": [
      "\u001b[0;31m---------------------------------------------------------------------------\u001b[0m",
      "\u001b[0;31mHttpError\u001b[0m                                 Traceback (most recent call last)",
      "File \u001b[0;32m/opt/python/3.10.5/lib/python3.10/site-packages/ee/data.py:328\u001b[0m, in \u001b[0;36m_execute_cloud_call\u001b[0;34m(call, num_retries)\u001b[0m\n\u001b[1;32m    327\u001b[0m \u001b[38;5;28;01mtry\u001b[39;00m:\n\u001b[0;32m--> 328\u001b[0m   \u001b[38;5;28;01mreturn\u001b[39;00m \u001b[43mcall\u001b[49m\u001b[38;5;241;43m.\u001b[39;49m\u001b[43mexecute\u001b[49m\u001b[43m(\u001b[49m\u001b[43mnum_retries\u001b[49m\u001b[38;5;241;43m=\u001b[39;49m\u001b[43mnum_retries\u001b[49m\u001b[43m)\u001b[49m\n\u001b[1;32m    329\u001b[0m \u001b[38;5;28;01mexcept\u001b[39;00m googleapiclient\u001b[38;5;241m.\u001b[39merrors\u001b[38;5;241m.\u001b[39mHttpError \u001b[38;5;28;01mas\u001b[39;00m e:\n",
      "File \u001b[0;32m/opt/python/3.10.5/lib/python3.10/site-packages/googleapiclient/_helpers.py:134\u001b[0m, in \u001b[0;36mpositional.<locals>.positional_decorator.<locals>.positional_wrapper\u001b[0;34m(*args, **kwargs)\u001b[0m\n\u001b[1;32m    133\u001b[0m         logger\u001b[38;5;241m.\u001b[39mwarning(message)\n\u001b[0;32m--> 134\u001b[0m \u001b[38;5;28;01mreturn\u001b[39;00m \u001b[43mwrapped\u001b[49m\u001b[43m(\u001b[49m\u001b[38;5;241;43m*\u001b[39;49m\u001b[43margs\u001b[49m\u001b[43m,\u001b[49m\u001b[43m \u001b[49m\u001b[38;5;241;43m*\u001b[39;49m\u001b[38;5;241;43m*\u001b[39;49m\u001b[43mkwargs\u001b[49m\u001b[43m)\u001b[49m\n",
      "File \u001b[0;32m/opt/python/3.10.5/lib/python3.10/site-packages/googleapiclient/http.py:915\u001b[0m, in \u001b[0;36mHttpRequest.execute\u001b[0;34m(self, http, num_retries)\u001b[0m\n\u001b[1;32m    914\u001b[0m \u001b[38;5;28;01mif\u001b[39;00m resp\u001b[38;5;241m.\u001b[39mstatus \u001b[38;5;241m>\u001b[39m\u001b[38;5;241m=\u001b[39m \u001b[38;5;241m300\u001b[39m:\n\u001b[0;32m--> 915\u001b[0m     \u001b[38;5;28;01mraise\u001b[39;00m HttpError(resp, content, uri\u001b[38;5;241m=\u001b[39m\u001b[38;5;28mself\u001b[39m\u001b[38;5;241m.\u001b[39muri)\n\u001b[1;32m    916\u001b[0m \u001b[38;5;28;01mreturn\u001b[39;00m \u001b[38;5;28mself\u001b[39m\u001b[38;5;241m.\u001b[39mpostproc(resp, content)\n",
      "\u001b[0;31mHttpError\u001b[0m: <HttpError 400 when requesting https://earthengine.googleapis.com/v1alpha/projects/earthengine-legacy/maps?fields=name&alt=json returned \"Image.visualize: No band named 'B7'. Available band names: [NDVI].\". Details: \"Image.visualize: No band named 'B7'. Available band names: [NDVI].\">",
      "\nDuring handling of the above exception, another exception occurred:\n",
      "\u001b[0;31mEEException\u001b[0m                               Traceback (most recent call last)",
      "Input \u001b[0;32mIn [27]\u001b[0m, in \u001b[0;36m<cell line: 2>\u001b[0;34m()\u001b[0m\n\u001b[1;32m      1\u001b[0m \u001b[38;5;66;03m# Add NDVI to basemap\u001b[39;00m\n\u001b[0;32m----> 2\u001b[0m \u001b[43mMap\u001b[49m\u001b[38;5;241;43m.\u001b[39;49m\u001b[43maddLayer\u001b[49m\u001b[43m(\u001b[49m\u001b[43mndvi\u001b[49m\u001b[43m,\u001b[49m\u001b[43m \u001b[49m\u001b[43mburnParams\u001b[49m\u001b[43m,\u001b[49m\u001b[38;5;124;43m'\u001b[39;49m\u001b[38;5;124;43mNDVI\u001b[39;49m\u001b[38;5;124;43m'\u001b[39;49m\u001b[43m)\u001b[49m\n",
      "File \u001b[0;32m/opt/python/3.10.5/lib/python3.10/site-packages/geemap/geemap.py:1489\u001b[0m, in \u001b[0;36mMap.add_ee_layer\u001b[0;34m(self, ee_object, vis_params, name, shown, opacity)\u001b[0m\n\u001b[1;32m   1484\u001b[0m     \u001b[38;5;28;01melif\u001b[39;00m \u001b[38;5;129;01mnot\u001b[39;00m \u001b[38;5;28misinstance\u001b[39m(vis_params[\u001b[38;5;124m\"\u001b[39m\u001b[38;5;124mpalette\u001b[39m\u001b[38;5;124m\"\u001b[39m], \u001b[38;5;28mlist\u001b[39m):\n\u001b[1;32m   1485\u001b[0m         \u001b[38;5;28;01mraise\u001b[39;00m \u001b[38;5;167;01mValueError\u001b[39;00m(\n\u001b[1;32m   1486\u001b[0m             \u001b[38;5;124m\"\u001b[39m\u001b[38;5;124mThe palette must be a list of colors or a string or a Box object.\u001b[39m\u001b[38;5;124m\"\u001b[39m\n\u001b[1;32m   1487\u001b[0m         )\n\u001b[0;32m-> 1489\u001b[0m map_id_dict \u001b[38;5;241m=\u001b[39m \u001b[43mee\u001b[49m\u001b[38;5;241;43m.\u001b[39;49m\u001b[43mImage\u001b[49m\u001b[43m(\u001b[49m\u001b[43mimage\u001b[49m\u001b[43m)\u001b[49m\u001b[38;5;241;43m.\u001b[39;49m\u001b[43mgetMapId\u001b[49m\u001b[43m(\u001b[49m\u001b[43mvis_params\u001b[49m\u001b[43m)\u001b[49m\n\u001b[1;32m   1490\u001b[0m tile_layer \u001b[38;5;241m=\u001b[39m ipyleaflet\u001b[38;5;241m.\u001b[39mTileLayer(\n\u001b[1;32m   1491\u001b[0m     url\u001b[38;5;241m=\u001b[39mmap_id_dict[\u001b[38;5;124m\"\u001b[39m\u001b[38;5;124mtile_fetcher\u001b[39m\u001b[38;5;124m\"\u001b[39m]\u001b[38;5;241m.\u001b[39murl_format,\n\u001b[1;32m   1492\u001b[0m     attribution\u001b[38;5;241m=\u001b[39m\u001b[38;5;124m\"\u001b[39m\u001b[38;5;124mGoogle Earth Engine\u001b[39m\u001b[38;5;124m\"\u001b[39m,\n\u001b[0;32m   (...)\u001b[0m\n\u001b[1;32m   1496\u001b[0m     max_zoom\u001b[38;5;241m=\u001b[39m\u001b[38;5;241m24\u001b[39m,\n\u001b[1;32m   1497\u001b[0m )\n\u001b[1;32m   1499\u001b[0m layer \u001b[38;5;241m=\u001b[39m \u001b[38;5;28mself\u001b[39m\u001b[38;5;241m.\u001b[39mfind_layer(name\u001b[38;5;241m=\u001b[39mname)\n",
      "File \u001b[0;32m/opt/python/3.10.5/lib/python3.10/site-packages/ee/image.py:130\u001b[0m, in \u001b[0;36mImage.getMapId\u001b[0;34m(self, vis_params)\u001b[0m\n\u001b[1;32m    128\u001b[0m vis_image, request \u001b[38;5;241m=\u001b[39m \u001b[38;5;28mself\u001b[39m\u001b[38;5;241m.\u001b[39m_apply_visualization(vis_params)\n\u001b[1;32m    129\u001b[0m request[\u001b[38;5;124m'\u001b[39m\u001b[38;5;124mimage\u001b[39m\u001b[38;5;124m'\u001b[39m] \u001b[38;5;241m=\u001b[39m vis_image\n\u001b[0;32m--> 130\u001b[0m response \u001b[38;5;241m=\u001b[39m \u001b[43mdata\u001b[49m\u001b[38;5;241;43m.\u001b[39;49m\u001b[43mgetMapId\u001b[49m\u001b[43m(\u001b[49m\u001b[43mrequest\u001b[49m\u001b[43m)\u001b[49m\n\u001b[1;32m    131\u001b[0m response[\u001b[38;5;124m'\u001b[39m\u001b[38;5;124mimage\u001b[39m\u001b[38;5;124m'\u001b[39m] \u001b[38;5;241m=\u001b[39m \u001b[38;5;28mself\u001b[39m\n\u001b[1;32m    132\u001b[0m \u001b[38;5;28;01mreturn\u001b[39;00m response\n",
      "File \u001b[0;32m/opt/python/3.10.5/lib/python3.10/site-packages/ee/data.py:567\u001b[0m, in \u001b[0;36mgetMapId\u001b[0;34m(params)\u001b[0m\n\u001b[1;32m    564\u001b[0m   request[\u001b[38;5;124m'\u001b[39m\u001b[38;5;124mvisualizationOptions\u001b[39m\u001b[38;5;124m'\u001b[39m] \u001b[38;5;241m=\u001b[39m visualizationOptions\n\u001b[1;32m    565\u001b[0m \u001b[38;5;66;03m# Make it return only the name field, as otherwise it echoes the entire\u001b[39;00m\n\u001b[1;32m    566\u001b[0m \u001b[38;5;66;03m# request, which might be large.\u001b[39;00m\n\u001b[0;32m--> 567\u001b[0m result \u001b[38;5;241m=\u001b[39m \u001b[43m_execute_cloud_call\u001b[49m\u001b[43m(\u001b[49m\n\u001b[1;32m    568\u001b[0m \u001b[43m    \u001b[49m\u001b[43m_get_cloud_api_resource\u001b[49m\u001b[43m(\u001b[49m\u001b[43m)\u001b[49m\u001b[38;5;241;43m.\u001b[39;49m\u001b[43mprojects\u001b[49m\u001b[43m(\u001b[49m\u001b[43m)\u001b[49m\u001b[38;5;241;43m.\u001b[39;49m\u001b[43mmaps\u001b[49m\u001b[43m(\u001b[49m\u001b[43m)\u001b[49m\u001b[38;5;241;43m.\u001b[39;49m\u001b[43mcreate\u001b[49m\u001b[43m(\u001b[49m\n\u001b[1;32m    569\u001b[0m \u001b[43m        \u001b[49m\u001b[43mparent\u001b[49m\u001b[38;5;241;43m=\u001b[39;49m\u001b[43m_get_projects_path\u001b[49m\u001b[43m(\u001b[49m\u001b[43m)\u001b[49m\u001b[43m,\u001b[49m\u001b[43m \u001b[49m\u001b[43mfields\u001b[49m\u001b[38;5;241;43m=\u001b[39;49m\u001b[38;5;124;43m'\u001b[39;49m\u001b[38;5;124;43mname\u001b[39;49m\u001b[38;5;124;43m'\u001b[39;49m\u001b[43m,\u001b[49m\u001b[43m \u001b[49m\u001b[43mbody\u001b[49m\u001b[38;5;241;43m=\u001b[39;49m\u001b[43mrequest\u001b[49m\u001b[43m)\u001b[49m\u001b[43m)\u001b[49m\n\u001b[1;32m    570\u001b[0m map_name \u001b[38;5;241m=\u001b[39m result[\u001b[38;5;124m'\u001b[39m\u001b[38;5;124mname\u001b[39m\u001b[38;5;124m'\u001b[39m]\n\u001b[1;32m    571\u001b[0m url_format \u001b[38;5;241m=\u001b[39m \u001b[38;5;124m'\u001b[39m\u001b[38;5;132;01m%s\u001b[39;00m\u001b[38;5;124m/\u001b[39m\u001b[38;5;132;01m%s\u001b[39;00m\u001b[38;5;124m/\u001b[39m\u001b[38;5;132;01m%s\u001b[39;00m\u001b[38;5;124m/tiles/\u001b[39m\u001b[38;5;132;01m{z}\u001b[39;00m\u001b[38;5;124m/\u001b[39m\u001b[38;5;132;01m{x}\u001b[39;00m\u001b[38;5;124m/\u001b[39m\u001b[38;5;132;01m{y}\u001b[39;00m\u001b[38;5;124m'\u001b[39m \u001b[38;5;241m%\u001b[39m (\n\u001b[1;32m    572\u001b[0m     _tile_base_url, _cloud_api_utils\u001b[38;5;241m.\u001b[39mVERSION, map_name)\n",
      "File \u001b[0;32m/opt/python/3.10.5/lib/python3.10/site-packages/ee/data.py:330\u001b[0m, in \u001b[0;36m_execute_cloud_call\u001b[0;34m(call, num_retries)\u001b[0m\n\u001b[1;32m    328\u001b[0m   \u001b[38;5;28;01mreturn\u001b[39;00m call\u001b[38;5;241m.\u001b[39mexecute(num_retries\u001b[38;5;241m=\u001b[39mnum_retries)\n\u001b[1;32m    329\u001b[0m \u001b[38;5;28;01mexcept\u001b[39;00m googleapiclient\u001b[38;5;241m.\u001b[39merrors\u001b[38;5;241m.\u001b[39mHttpError \u001b[38;5;28;01mas\u001b[39;00m e:\n\u001b[0;32m--> 330\u001b[0m   \u001b[38;5;28;01mraise\u001b[39;00m _translate_cloud_exception(e)\n",
      "\u001b[0;31mEEException\u001b[0m: Image.visualize: No band named 'B7'. Available band names: [NDVI]."
     ]
    }
   ],
   "source": [
    "# Add NDVI to basemap\n",
    "Map.addLayer(ndvi, ndviParams,'NDVI')"
   ]
  }
 ],
 "metadata": {
  "kernelspec": {
   "display_name": "Python 3 (ipykernel)",
   "language": "python",
   "name": "python3"
  },
  "language_info": {
   "codemirror_mode": {
    "name": "ipython",
    "version": 3
   },
   "file_extension": ".py",
   "mimetype": "text/x-python",
   "name": "python",
   "nbconvert_exporter": "python",
   "pygments_lexer": "ipython3",
   "version": "3.10.5"
  }
 },
 "nbformat": 4,
 "nbformat_minor": 5
}
