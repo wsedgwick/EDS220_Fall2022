{
 "cells": [
  {
   "cell_type": "markdown",
   "id": "f824cc63-7830-454a-9f07-bda55bd60098",
   "metadata": {},
   "source": [
    "# EDS 220 Fall 2022\n",
    "## Exploring Land Use Datasets\n",
    "\n",
    "This notebook will give us a chance to load and play with data from the National Land Cover Database using Google Earth Engine. This exercise has been adapted from:\n",
    "\n",
    "https://geemap.org/notebooks/nlcd_datapane/\n",
    "\n",
    "We'll use \"standard\" Google Earth Engine packages to display this information:"
   ]
  },
  {
   "cell_type": "code",
   "execution_count": 1,
   "id": "98ab7891-c101-45d6-bb68-e00efb3a56c1",
   "metadata": {},
   "outputs": [],
   "source": [
    "# Import packages\n",
    "import ee\n",
    "import geemap"
   ]
  },
  {
   "cell_type": "code",
   "execution_count": 2,
   "id": "5bb9d104-b2ab-46e2-becb-902d4f77bef4",
   "metadata": {},
   "outputs": [],
   "source": [
    "# Authenticate and initialize Google Earth Engine\n",
    "#ee.Authenticate()\n",
    "ee.Initialize()"
   ]
  },
  {
   "cell_type": "markdown",
   "id": "e37bdaaa-a051-40d3-8b1c-a3d2ad485e18",
   "metadata": {},
   "source": [
    "The latest version of the NLCD available in Earth Engine is NLCD 2019:\n",
    "\n",
    "https://developers.google.com/earth-engine/datasets/catalog/USGS_NLCD_RELEASES_2019_REL_NLCD\n",
    "\n",
    "First, we can load the image collection holding that database:"
   ]
  },
  {
   "cell_type": "code",
   "execution_count": 7,
   "id": "45e26e5c-8a16-46c4-9d25-30af567c543e",
   "metadata": {},
   "outputs": [
    {
     "data": {
      "text/plain": [
       "<ee.imagecollection.ImageCollection at 0x7fd8427c3130>"
      ]
     },
     "execution_count": 7,
     "metadata": {},
     "output_type": "execute_result"
    }
   ],
   "source": [
    "# Load NLCD 2019 data collection\n",
    "nlcd_dat = ee.ImageCollection(\"USGS/NLCD_RELEASES/2019_REL/NLCD\")"
   ]
  },
  {
   "cell_type": "markdown",
   "id": "21858841-4398-40ef-bbe7-686ba4ac5b12",
   "metadata": {},
   "source": [
    "The link above lets us explore the metadata associated with that image collection, which reveals that there are 8 different epochs included in this database: 2001, 2004, 2006, 2008, 2011, 2013, 2016, and 2019.\n",
    "\n",
    "For each of the different epochs, the data has been stored as a single image - so we'll eventually want to load the epochal data as one image, rather than an ImageCollection, using the `.first()` method.\n",
    "\n",
    "An efficient way to load in all of the data for each epoch is to define a _function_ which takes a year as its argument, and loads in the NLCD information corresponding to that year as a variable which can then be passed as a layer to GEE's mapping module. This is what the code block below does:"
   ]
  },
  {
   "cell_type": "code",
   "execution_count": 16,
   "id": "b2015d25-1ae9-44c5-92b2-4a7337e82da9",
   "metadata": {},
   "outputs": [],
   "source": [
    "# Get an NLCD image by year.\n",
    "def getNLCD(year):\n",
    "    # Import the NLCD collection.\n",
    "    dataset = ee.ImageCollection('USGS/NLCD_RELEASES/2019_REL/NLCD')\n",
    "\n",
    "    # Filter the collection by year.\n",
    "    nlcd = dataset.filter(ee.Filter.eq('system:index', year)).first()\n",
    "\n",
    "    # Select the land cover band.\n",
    "    landcover = nlcd.select('landcover')\n",
    "    \n",
    "    # Return a variable containing information from the land cover band\n",
    "    return landcover\n"
   ]
  },
  {
   "cell_type": "markdown",
   "id": "880f530f-4181-4dcc-a29d-c5a6b3f6d464",
   "metadata": {},
   "source": [
    "Another preparatory step is to create a base map on which we can plot the data we'll extract:"
   ]
  },
  {
   "cell_type": "code",
   "execution_count": 17,
   "id": "a6338864-0cea-4e09-a637-ce3dd4ccf208",
   "metadata": {},
   "outputs": [
    {
     "data": {
      "application/vnd.jupyter.widget-view+json": {
       "model_id": "60318c04832e4509910caee6e3b1af3d",
       "version_major": 2,
       "version_minor": 0
      },
      "text/plain": [
       "Map(center=[34.42, -119.69], controls=(WidgetControl(options=['position', 'transparent_bg'], widget=HBox(child…"
      ]
     },
     "execution_count": 17,
     "metadata": {},
     "output_type": "execute_result"
    }
   ],
   "source": [
    "# Create and plot basemap\n",
    "Map = geemap.Map(center=[34.42, -119.69], zoom=8)\n",
    "Map"
   ]
  },
  {
   "cell_type": "markdown",
   "id": "d51e32c9-2f9c-421d-956a-1e9adbdd60db",
   "metadata": {},
   "source": [
    "Now that our NLCD data extraction function has been defined, we can use it! First, we define an array containing all the years for which we would like to view data.\n",
    "\n",
    "Then, we loop over each element in that year array, extract the NLCD information, and pass it to the GEE basemap."
   ]
  },
  {
   "cell_type": "code",
   "execution_count": 18,
   "id": "d28e2229-55e4-4000-b6dc-715bb0d2e57b",
   "metadata": {},
   "outputs": [],
   "source": [
    "# Define array of years corresponding to NLCD epochs\n",
    "years = ['2001', '2004', '2006', '2008', '2011', '2013', '2016', '2019']\n",
    "\n",
    "# Loop over years, call function to extract NLCD data\n",
    "for year in years:\n",
    "    data = getNLCD(year)\n",
    "    Map.addLayer(data, {}, 'NLCD ' + year)\n"
   ]
  },
  {
   "cell_type": "markdown",
   "id": "dfa49e5d-42cc-4a9f-871a-1287e3949670",
   "metadata": {},
   "source": [
    "This results in a very colorful map which can be hard to interpret without a legend. Fortunately, the NLCD color scheme is one of the legends that GEE has hard-coded as a built-in legend! The full list of legend options is available here:\n",
    "\n",
    "https://geemap.org/notebooks/14_legends/"
   ]
  },
  {
   "cell_type": "code",
   "execution_count": 15,
   "id": "10edcaf9-d904-438a-85b0-ef07434b951d",
   "metadata": {},
   "outputs": [],
   "source": [
    "# Add the NLCD legend to the map.\n",
    "Map.add_legend(legend_title='NLCD Land Cover Classification', builtin_legend='NLCD')\n"
   ]
  },
  {
   "cell_type": "code",
   "execution_count": null,
   "id": "1e434437-60ac-4a64-b801-ab8e44edb1ae",
   "metadata": {},
   "outputs": [],
   "source": []
  }
 ],
 "metadata": {
  "kernelspec": {
   "display_name": "Python 3 (ipykernel)",
   "language": "python",
   "name": "python3"
  },
  "language_info": {
   "codemirror_mode": {
    "name": "ipython",
    "version": 3
   },
   "file_extension": ".py",
   "mimetype": "text/x-python",
   "name": "python",
   "nbconvert_exporter": "python",
   "pygments_lexer": "ipython3",
   "version": "3.8.13"
  }
 },
 "nbformat": 4,
 "nbformat_minor": 5
}
